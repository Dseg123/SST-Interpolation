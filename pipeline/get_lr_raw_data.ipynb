{
 "cells": [
  {
   "cell_type": "code",
   "execution_count": 1,
   "id": "85045e7c-0197-4e92-baf2-6e862df861fb",
   "metadata": {},
   "outputs": [
    {
     "name": "stdout",
     "output_type": "stream",
     "text": [
      "{'satelliteName': 'ABI_G16-STAR-L2P-v2.70', 'startTime': '2018-01-01T00:00:00Z', 'endTime': '2018-03-01T00:00:00Z', 'tileSize': 64, 'tileStride': 32, 'spaceBounds': (1000, 2500, 1500, 3000), 'blockSize': 24, 'numBlocks': 57, 'windowSize': 5, 'randSeed': 100, 'batchSize': 32, 'trainLength': 20, 'valLength': 8, 'threshold': 0.2, 'dataDir': 'data', 'numTiles': 2025}\n"
     ]
    }
   ],
   "source": [
    "import sys\n",
    "sys.path.append(\"..\")\n",
    "from get_params import params\n",
    "\n",
    "import xarray as xr \n",
    "import matplotlib.pyplot as plt\n",
    "\n",
    "import numpy as np                 #for general calculations.\n",
    "\n",
    "from matplotlib.animation import FuncAnimation  #creating animations and videos.\n",
    "from IPython.display import Video, HTML         #embedding videos in the notebook\n",
    "\n",
    "#this command allows interactive plots in noteboks\n",
    "from pathlib import Path"
   ]
  },
  {
   "cell_type": "code",
   "execution_count": 7,
   "id": "2c9c1c4d-07a6-4069-bd9a-279889034a04",
   "metadata": {},
   "outputs": [],
   "source": [
    "p = Path('../data/lr_raw_data')\n"
   ]
  },
  {
   "cell_type": "code",
   "execution_count": 9,
   "id": "c512b5b0-4748-4624-891f-ab7967349e1f",
   "metadata": {},
   "outputs": [],
   "source": [
    "pg = list(p.glob('*.nc'))"
   ]
  },
  {
   "cell_type": "code",
   "execution_count": 10,
   "id": "ac8ca720-b65a-45e9-b62d-e1dc7f3e85ba",
   "metadata": {},
   "outputs": [
    {
     "name": "stdout",
     "output_type": "stream",
     "text": [
      "[PosixPath('../data/lr_raw_data/20180101141008-REMSS-L2P_GHRSST-SSTsubskin-AMSR2-L2B_v8.2_r29926-v02.0-fv01.0.nc'), PosixPath('../data/lr_raw_data/20171231232012-REMSS-L2P_GHRSST-SSTsubskin-AMSR2-L2B_v8.2_r29917-v02.0-fv01.0.nc'), PosixPath('../data/lr_raw_data/20180104175849-REMSS-L2P_GHRSST-SSTsubskin-AMSR2-L2B_v8.2_r29972-v02.0-fv01.0.nc'), PosixPath('../data/lr_raw_data/20180103004643-REMSS-L2P_GHRSST-SSTsubskin-AMSR2-L2B_v8.2_r29947-v02.0-fv01.0.nc'), PosixPath('../data/lr_raw_data/20180103235106-REMSS-L2P_GHRSST-SSTsubskin-AMSR2-L2B_v8.2_r29961-v02.0-fv01.0.nc'), PosixPath('../data/lr_raw_data/20180102095646-REMSS-L2P_GHRSST-SSTsubskin-AMSR2-L2B_v8.2_r29938-v02.0-fv01.0.nc'), PosixPath('../data/lr_raw_data/20180101055544-REMSS-L2P_GHRSST-SSTsubskin-AMSR2-L2B_v8.2_r29921-v02.0-fv01.0.nc'), PosixPath('../data/lr_raw_data/20180102145325-REMSS-L2P_GHRSST-SSTsubskin-AMSR2-L2B_v8.2_r29941-v02.0-fv01.0.nc'), PosixPath('../data/lr_raw_data/20180101005903-REMSS-L2P_GHRSST-SSTsubskin-AMSR2-L2B_v8.2_r29918-v02.0-fv01.0.nc'), PosixPath('../data/lr_raw_data/20180104130211-REMSS-L2P_GHRSST-SSTsubskin-AMSR2-L2B_v8.2_r29969-v02.0-fv01.0.nc'), PosixPath('../data/lr_raw_data/20180103185427-REMSS-L2P_GHRSST-SSTsubskin-AMSR2-L2B_v8.2_r29958-v02.0-fv01.0.nc'), PosixPath('../data/lr_raw_data/20180101023757-REMSS-L2P_GHRSST-SSTsubskin-AMSR2-L2B_v8.2_r29919-v02.0-fv01.0.nc'), PosixPath('../data/lr_raw_data/20180101041650-REMSS-L2P_GHRSST-SSTsubskin-AMSR2-L2B_v8.2_r29920-v02.0-fv01.0.nc'), PosixPath('../data/lr_raw_data/20180102113538-REMSS-L2P_GHRSST-SSTsubskin-AMSR2-L2B_v8.2_r29939-v02.0-fv01.0.nc'), PosixPath('../data/lr_raw_data/20180103040429-REMSS-L2P_GHRSST-SSTsubskin-AMSR2-L2B_v8.2_r29949-v02.0-fv01.0.nc'), PosixPath('../data/lr_raw_data/20180101204540-REMSS-L2P_GHRSST-SSTsubskin-AMSR2-L2B_v8.2_r29930-v02.0-fv01.0.nc'), PosixPath('../data/lr_raw_data/20180102000327-REMSS-L2P_GHRSST-SSTsubskin-AMSR2-L2B_v8.2_r29932-v02.0-fv01.0.nc'), PosixPath('../data/lr_raw_data/20180104112319-REMSS-L2P_GHRSST-SSTsubskin-AMSR2-L2B_v8.2_r29968-v02.0-fv01.0.nc'), PosixPath('../data/lr_raw_data/20180103054323-REMSS-L2P_GHRSST-SSTsubskin-AMSR2-L2B_v8.2_r29950-v02.0-fv01.0.nc'), PosixPath('../data/lr_raw_data/20180104094425-REMSS-L2P_GHRSST-SSTsubskin-AMSR2-L2B_v8.2_r29967-v02.0-fv01.0.nc'), PosixPath('../data/lr_raw_data/20180104193743-REMSS-L2P_GHRSST-SSTsubskin-AMSR2-L2B_v8.2_r29973-v02.0-fv01.0.nc'), PosixPath('../data/lr_raw_data/20180104144104-REMSS-L2P_GHRSST-SSTsubskin-AMSR2-L2B_v8.2_r29970-v02.0-fv01.0.nc'), PosixPath('../data/lr_raw_data/20180104225530-REMSS-L2P_GHRSST-SSTsubskin-AMSR2-L2B_v8.2_r29975-v02.0-fv01.0.nc'), PosixPath('../data/lr_raw_data/20180103022536-REMSS-L2P_GHRSST-SSTsubskin-AMSR2-L2B_v8.2_r29948-v02.0-fv01.0.nc'), PosixPath('../data/lr_raw_data/20180102163218-REMSS-L2P_GHRSST-SSTsubskin-AMSR2-L2B_v8.2_r29942-v02.0-fv01.0.nc'), PosixPath('../data/lr_raw_data/20180102195004-REMSS-L2P_GHRSST-SSTsubskin-AMSR2-L2B_v8.2_r29944-v02.0-fv01.0.nc'), PosixPath('../data/lr_raw_data/20180102050006-REMSS-L2P_GHRSST-SSTsubskin-AMSR2-L2B_v8.2_r29935-v02.0-fv01.0.nc'), PosixPath('../data/lr_raw_data/20180102181110-REMSS-L2P_GHRSST-SSTsubskin-AMSR2-L2B_v8.2_r29943-v02.0-fv01.0.nc'), PosixPath('../data/lr_raw_data/20180101190648-REMSS-L2P_GHRSST-SSTsubskin-AMSR2-L2B_v8.2_r29929-v02.0-fv01.0.nc'), PosixPath('../data/lr_raw_data/20180104062638-REMSS-L2P_GHRSST-SSTsubskin-AMSR2-L2B_v8.2_r29965-v02.0-fv01.0.nc'), PosixPath('../data/lr_raw_data/20180104030853-REMSS-L2P_GHRSST-SSTsubskin-AMSR2-L2B_v8.2_r29963-v02.0-fv01.0.nc'), PosixPath('../data/lr_raw_data/20180104013000-REMSS-L2P_GHRSST-SSTsubskin-AMSR2-L2B_v8.2_r29962-v02.0-fv01.0.nc'), PosixPath('../data/lr_raw_data/20180103090108-REMSS-L2P_GHRSST-SSTsubskin-AMSR2-L2B_v8.2_r29952-v02.0-fv01.0.nc'), PosixPath('../data/lr_raw_data/20180101073436-REMSS-L2P_GHRSST-SSTsubskin-AMSR2-L2B_v8.2_r29922-v02.0-fv01.0.nc'), PosixPath('../data/lr_raw_data/20180103203321-REMSS-L2P_GHRSST-SSTsubskin-AMSR2-L2B_v8.2_r29959-v02.0-fv01.0.nc'), PosixPath('../data/lr_raw_data/20180102212857-REMSS-L2P_GHRSST-SSTsubskin-AMSR2-L2B_v8.2_r29945-v02.0-fv01.0.nc'), PosixPath('../data/lr_raw_data/20180102081753-REMSS-L2P_GHRSST-SSTsubskin-AMSR2-L2B_v8.2_r29937-v02.0-fv01.0.nc'), PosixPath('../data/lr_raw_data/20180103221213-REMSS-L2P_GHRSST-SSTsubskin-AMSR2-L2B_v8.2_r29960-v02.0-fv01.0.nc'), PosixPath('../data/lr_raw_data/20180101105223-REMSS-L2P_GHRSST-SSTsubskin-AMSR2-L2B_v8.2_r29924-v02.0-fv01.0.nc'), PosixPath('../data/lr_raw_data/20180103171534-REMSS-L2P_GHRSST-SSTsubskin-AMSR2-L2B_v8.2_r29957-v02.0-fv01.0.nc'), PosixPath('../data/lr_raw_data/20180102131432-REMSS-L2P_GHRSST-SSTsubskin-AMSR2-L2B_v8.2_r29940-v02.0-fv01.0.nc'), PosixPath('../data/lr_raw_data/20180104161958-REMSS-L2P_GHRSST-SSTsubskin-AMSR2-L2B_v8.2_r29971-v02.0-fv01.0.nc'), PosixPath('../data/lr_raw_data/20180102063859-REMSS-L2P_GHRSST-SSTsubskin-AMSR2-L2B_v8.2_r29936-v02.0-fv01.0.nc'), PosixPath('../data/lr_raw_data/20180103135749-REMSS-L2P_GHRSST-SSTsubskin-AMSR2-L2B_v8.2_r29955-v02.0-fv01.0.nc'), PosixPath('../data/lr_raw_data/20180103072215-REMSS-L2P_GHRSST-SSTsubskin-AMSR2-L2B_v8.2_r29951-v02.0-fv01.0.nc'), PosixPath('../data/lr_raw_data/20180104080532-REMSS-L2P_GHRSST-SSTsubskin-AMSR2-L2B_v8.2_r29966-v02.0-fv01.0.nc'), PosixPath('../data/lr_raw_data/20180103153641-REMSS-L2P_GHRSST-SSTsubskin-AMSR2-L2B_v8.2_r29956-v02.0-fv01.0.nc'), PosixPath('../data/lr_raw_data/20180103104002-REMSS-L2P_GHRSST-SSTsubskin-AMSR2-L2B_v8.2_r29953-v02.0-fv01.0.nc'), PosixPath('../data/lr_raw_data/20180102032112-REMSS-L2P_GHRSST-SSTsubskin-AMSR2-L2B_v8.2_r29934-v02.0-fv01.0.nc'), PosixPath('../data/lr_raw_data/20180104211636-REMSS-L2P_GHRSST-SSTsubskin-AMSR2-L2B_v8.2_r29974-v02.0-fv01.0.nc'), PosixPath('../data/lr_raw_data/20180102014221-REMSS-L2P_GHRSST-SSTsubskin-AMSR2-L2B_v8.2_r29933-v02.0-fv01.0.nc'), PosixPath('../data/lr_raw_data/20180103121855-REMSS-L2P_GHRSST-SSTsubskin-AMSR2-L2B_v8.2_r29954-v02.0-fv01.0.nc'), PosixPath('../data/lr_raw_data/20180101154901-REMSS-L2P_GHRSST-SSTsubskin-AMSR2-L2B_v8.2_r29927-v02.0-fv01.0.nc'), PosixPath('../data/lr_raw_data/20180101091329-REMSS-L2P_GHRSST-SSTsubskin-AMSR2-L2B_v8.2_r29923-v02.0-fv01.0.nc'), PosixPath('../data/lr_raw_data/20180102230751-REMSS-L2P_GHRSST-SSTsubskin-AMSR2-L2B_v8.2_r29946-v02.0-fv01.0.nc'), PosixPath('../data/lr_raw_data/20180101222434-REMSS-L2P_GHRSST-SSTsubskin-AMSR2-L2B_v8.2_r29931-v02.0-fv01.0.nc'), PosixPath('../data/lr_raw_data/20180104044745-REMSS-L2P_GHRSST-SSTsubskin-AMSR2-L2B_v8.2_r29964-v02.0-fv01.0.nc'), PosixPath('../data/lr_raw_data/20180101172755-REMSS-L2P_GHRSST-SSTsubskin-AMSR2-L2B_v8.2_r29928-v02.0-fv01.0.nc'), PosixPath('../data/lr_raw_data/20180101123116-REMSS-L2P_GHRSST-SSTsubskin-AMSR2-L2B_v8.2_r29925-v02.0-fv01.0.nc')]\n"
     ]
    }
   ],
   "source": [
    "print(pg)"
   ]
  },
  {
   "cell_type": "code",
   "execution_count": 12,
   "id": "10bed180-d19f-45c1-8798-52a413ce4787",
   "metadata": {},
   "outputs": [],
   "source": [
    "data = xr.open_dataset(pg[0])"
   ]
  },
  {
   "cell_type": "code",
   "execution_count": 13,
   "id": "5d5281df-dcd3-4a95-8d73-339bcb635dfb",
   "metadata": {},
   "outputs": [],
   "source": [
    "sst = data.sea_surface_temperature.values"
   ]
  },
  {
   "cell_type": "code",
   "execution_count": 14,
   "id": "7bc7aaf1-cd63-443f-be37-5c1ca29f9c59",
   "metadata": {},
   "outputs": [
    {
     "name": "stdout",
     "output_type": "stream",
     "text": [
      "(1, 4193, 243)\n"
     ]
    }
   ],
   "source": [
    "print(sst.shape)"
   ]
  },
  {
   "cell_type": "code",
   "execution_count": 17,
   "id": "534a51e8-0efa-4583-b4b9-524b534a4356",
   "metadata": {},
   "outputs": [],
   "source": [
    "p2 = Path('../data/raw_data')\n",
    "pg2 = list(p2.glob('*.nc'))\n",
    "data2 = xr.open_dataset(pg2[0])\n",
    "sst2 = data2.sea_surface_temperature.values"
   ]
  },
  {
   "cell_type": "code",
   "execution_count": 18,
   "id": "e53ce2fe-2752-4ece-9c75-3fbbb7b87473",
   "metadata": {},
   "outputs": [
    {
     "name": "stdout",
     "output_type": "stream",
     "text": [
      "(1, 5424, 5424)\n"
     ]
    }
   ],
   "source": [
    "print(sst2.shape)"
   ]
  },
  {
   "cell_type": "code",
   "execution_count": 23,
   "id": "a315554c-015d-4d00-93bb-b5ae734be9ee",
   "metadata": {},
   "outputs": [
    {
     "data": {
      "text/plain": [
       "<matplotlib.image.AxesImage at 0x7f677c0d21d0>"
      ]
     },
     "execution_count": 23,
     "metadata": {},
     "output_type": "execute_result"
    },
    {
     "data": {
      "image/png": "[encoded data removed]",
      "text/plain": [
       "<Figure size 432x288 with 1 Axes>"
      ]
     },
     "metadata": {
      "needs_background": "light"
     },
     "output_type": "display_data"
    }
   ],
   "source": [
    "plt.imshow(sst[0, :, :])"
   ]
  },
  {
   "cell_type": "code",
   "execution_count": 21,
   "id": "d7f8d472-b41e-4c40-ba31-57a1303bfd3a",
   "metadata": {},
   "outputs": [
    {
     "data": {
      "text/plain": [
       "<matplotlib.image.AxesImage at 0x7f6784654d30>"
      ]
     },
     "execution_count": 21,
     "metadata": {},
     "output_type": "execute_result"
    },
    {
     "data": {
      "image/png": "[encoded data removed]",
      "text/plain": [
       "<Figure size 432x288 with 1 Axes>"
      ]
     },
     "metadata": {
      "needs_background": "light"
     },
     "output_type": "display_data"
    }
   ],
   "source": [
    "plt.imshow(sst2[0, :, :])"
   ]
  }
 ],
 "metadata": {
  "kernelspec": {
   "display_name": "Python 3 (ipykernel)",
   "language": "python",
   "name": "python3"
  },
  "language_info": {
   "codemirror_mode": {
    "name": "ipython",
    "version": 3
   },
   "file_extension": ".py",
   "mimetype": "text/x-python",
   "name": "python",
   "nbconvert_exporter": "python",
   "pygments_lexer": "ipython3",
   "version": "3.9.13"
  }
 },
 "nbformat": 4,
 "nbformat_minor": 5
}
