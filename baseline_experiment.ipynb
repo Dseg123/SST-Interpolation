{
 "cells": [
  {
   "cell_type": "code",
   "execution_count": 2,
   "id": "a54254ef-f258-4b24-83b5-bec1a19f0265",
   "metadata": {},
   "outputs": [
    {
     "name": "stderr",
     "output_type": "stream",
     "text": [
      "2023-07-26 21:26:44.141396: I tensorflow/stream_executor/cuda/cuda_gpu_executor.cc:980] successful NUMA node read from SysFS had negative value (-1), but there must be at least one NUMA node, so returning NUMA node zero\n",
      "2023-07-26 21:26:44.299193: I tensorflow/stream_executor/cuda/cuda_gpu_executor.cc:980] successful NUMA node read from SysFS had negative value (-1), but there must be at least one NUMA node, so returning NUMA node zero\n",
      "2023-07-26 21:26:44.299919: I tensorflow/stream_executor/cuda/cuda_gpu_executor.cc:980] successful NUMA node read from SysFS had negative value (-1), but there must be at least one NUMA node, so returning NUMA node zero\n",
      "2023-07-26 21:26:44.300839: I tensorflow/core/platform/cpu_feature_guard.cc:193] This TensorFlow binary is optimized with oneAPI Deep Neural Network Library (oneDNN) to use the following CPU instructions in performance-critical operations:  SSE4.1 SSE4.2 AVX AVX2 AVX512F AVX512_VNNI FMA\n",
      "To enable them in other operations, rebuild TensorFlow with the appropriate compiler flags.\n",
      "2023-07-26 21:26:44.301237: I tensorflow/stream_executor/cuda/cuda_gpu_executor.cc:980] successful NUMA node read from SysFS had negative value (-1), but there must be at least one NUMA node, so returning NUMA node zero\n",
      "2023-07-26 21:26:44.301874: I tensorflow/stream_executor/cuda/cuda_gpu_executor.cc:980] successful NUMA node read from SysFS had negative value (-1), but there must be at least one NUMA node, so returning NUMA node zero\n",
      "2023-07-26 21:26:44.302427: I tensorflow/stream_executor/cuda/cuda_gpu_executor.cc:980] successful NUMA node read from SysFS had negative value (-1), but there must be at least one NUMA node, so returning NUMA node zero\n",
      "2023-07-26 21:26:46.525313: I tensorflow/stream_executor/cuda/cuda_gpu_executor.cc:980] successful NUMA node read from SysFS had negative value (-1), but there must be at least one NUMA node, so returning NUMA node zero\n",
      "2023-07-26 21:26:46.525969: I tensorflow/stream_executor/cuda/cuda_gpu_executor.cc:980] successful NUMA node read from SysFS had negative value (-1), but there must be at least one NUMA node, so returning NUMA node zero\n",
      "2023-07-26 21:26:46.526513: I tensorflow/stream_executor/cuda/cuda_gpu_executor.cc:980] successful NUMA node read from SysFS had negative value (-1), but there must be at least one NUMA node, so returning NUMA node zero\n",
      "2023-07-26 21:26:46.527667: I tensorflow/core/common_runtime/gpu/gpu_device.cc:1616] Created device /job:localhost/replica:0/task:0/device:GPU:0 with 13777 MB memory:  -> device: 0, name: Tesla T4, pci bus id: 0000:00:1e.0, compute capability: 7.5\n"
     ]
    }
   ],
   "source": [
    "import tensorflow as tf\n",
    "import numpy as np\n",
    "import os\n",
    "import time\n",
    "import glob\n",
    "import imageio\n",
    "import matplotlib.pyplot as plt\n",
    "import numpy as np\n",
    "import os\n",
    "import PIL\n",
    "from tensorflow.keras import layers\n",
    "import time\n",
    "import datetime\n",
    "import random\n",
    "import pandas as pd\n",
    "\n",
    "from IPython import display\n",
    "from gan.gan_dataset import get_gan_dataset\n",
    "from gan.gan_models import make_discriminator_model\n",
    "from src.generators import *\n",
    "from src.models import *\n",
    "from src.losses import *\n",
    "\n",
    "batch_size = 12\n",
    "\n",
    "gan_size = 64\n",
    "gan_depth = 1\n",
    "gan_train_frac = 0.8\n",
    "gan_val_frac = 0.1\n",
    "\n",
    "src_window_size = 2\n",
    "src_sample_size = 12\n",
    "src_tile_size = 64\n",
    "src_seed_size = 100\n",
    "\n",
    "epochs = 50\n",
    "\n",
    "\n",
    "src_data_dir = \"data_size64_duration6_window2_4hourly\"\n",
    "\n",
    "\n",
    "src_train_ids = np.load(src_data_dir + '/train_ids.npy')\n",
    "src_val_ids = np.load(src_data_dir + '/val_ids.npy')\n",
    "mean, std, src_train_dataset = get_src_dataset(src_data_dir, src_train_ids, src_window_size, batch_size = batch_size)\n",
    "mean, std, src_val_dataset = get_src_dataset(src_data_dir, src_val_ids, src_window_size, batch_size = batch_size)\n"
   ]
  },
  {
   "cell_type": "code",
   "execution_count": 1,
   "id": "895cb010-bab6-48d8-a94c-ea8a3df52f5c",
   "metadata": {},
   "outputs": [
    {
     "name": "stdout",
     "output_type": "stream",
     "text": [
      "hi\n"
     ]
    }
   ],
   "source": [
    "print(\"hi\")"
   ]
  },
  {
   "cell_type": "code",
   "execution_count": 2,
   "id": "171684d3-b4a1-4f61-b756-20525c0b57c5",
   "metadata": {},
   "outputs": [
    {
     "ename": "NameError",
     "evalue": "name 'sample_batch' is not defined",
     "output_type": "error",
     "traceback": [
      "\u001b[0;31m---------------------------------------------------------------------------\u001b[0m",
      "\u001b[0;31mNameError\u001b[0m                                 Traceback (most recent call last)",
      "Cell \u001b[0;32mIn [2], line 1\u001b[0m\n\u001b[0;32m----> 1\u001b[0m \u001b[38;5;28mprint\u001b[39m(\u001b[43msample_batch\u001b[49m)\n",
      "\u001b[0;31mNameError\u001b[0m: name 'sample_batch' is not defined"
     ]
    }
   ],
   "source": [
    "print(sample_batch)"
   ]
  },
  {
   "cell_type": "code",
   "execution_count": null,
   "id": "55ba63dd-1a10-4701-8d79-01d0d915b8d7",
   "metadata": {},
   "outputs": [],
   "source": [
    "for batch in src_train_dataset:\n",
    "    print(batch)\n",
    "    break"
   ]
  },
  {
   "cell_type": "code",
   "execution_count": 11,
   "id": "e7433d1d-615d-4823-b751-74b86a797a57",
   "metadata": {},
   "outputs": [],
   "source": [
    "for batch in src_train_dataset:\n",
    "    sample_batch = batch\n",
    "    break"
   ]
  },
  {
   "cell_type": "code",
   "execution_count": 4,
   "id": "73c9047f-0cd9-47b4-92dd-ad78c132a04c",
   "metadata": {},
   "outputs": [
    {
     "name": "stdout",
     "output_type": "stream",
     "text": [
      "(12, 12, 64, 64)\n"
     ]
    }
   ],
   "source": [
    "print(sample_batch[0].shape)"
   ]
  },
  {
   "cell_type": "code",
   "execution_count": null,
   "id": "a00258ec-7079-43d6-b19d-9b9ce237bd2c",
   "metadata": {},
   "outputs": [],
   "source": []
  },
  {
   "cell_type": "code",
   "execution_count": 3,
   "id": "ae0a8935-b41d-4ca0-8bd4-2018d3c3d78d",
   "metadata": {},
   "outputs": [
    {
     "ename": "ModuleNotFoundError",
     "evalue": "No module named 'pyinterp'",
     "output_type": "error",
     "traceback": [
      "\u001b[0;31m---------------------------------------------------------------------------\u001b[0m",
      "\u001b[0;31mModuleNotFoundError\u001b[0m                       Traceback (most recent call last)",
      "Cell \u001b[0;32mIn [3], line 1\u001b[0m\n\u001b[0;32m----> 1\u001b[0m \u001b[38;5;28;01mimport\u001b[39;00m \u001b[38;5;21;01mpyinterp\u001b[39;00m\n",
      "\u001b[0;31mModuleNotFoundError\u001b[0m: No module named 'pyinterp'"
     ]
    }
   ],
   "source": [
    "import pyinterp"
   ]
  },
  {
   "cell_type": "raw",
   "id": "f5dd0fd2-ab4a-4e13-961a-ba87f165e6c1",
   "metadata": {},
   "source": [
    "!pip install pyinterp"
   ]
  },
  {
   "cell_type": "code",
   "execution_count": 7,
   "id": "4cbba367-ca58-46dd-8515-ed1f92df712d",
   "metadata": {},
   "outputs": [
    {
     "ename": "ModuleNotFoundError",
     "evalue": "No module named 'pyinterp'",
     "output_type": "error",
     "traceback": [
      "\u001b[0;31m---------------------------------------------------------------------------\u001b[0m",
      "\u001b[0;31mModuleNotFoundError\u001b[0m                       Traceback (most recent call last)",
      "Cell \u001b[0;32mIn [7], line 2\u001b[0m\n\u001b[1;32m      1\u001b[0m \u001b[38;5;28;01mimport\u001b[39;00m \u001b[38;5;21;01mnumpy\u001b[39;00m \u001b[38;5;28;01mas\u001b[39;00m \u001b[38;5;21;01mnp\u001b[39;00m\n\u001b[0;32m----> 2\u001b[0m \u001b[38;5;28;01mimport\u001b[39;00m \u001b[38;5;21;01mpyinterp\u001b[39;00m\n",
      "\u001b[0;31mModuleNotFoundError\u001b[0m: No module named 'pyinterp'"
     ]
    }
   ],
   "source": [
    "import numpy as np\n",
    "import pyinterp"
   ]
  },
  {
   "cell_type": "code",
   "execution_count": 6,
   "id": "69d20d32-f539-4771-8054-b0890e078a4e",
   "metadata": {},
   "outputs": [
    {
     "ename": "NameError",
     "evalue": "name 'pyinterp' is not defined",
     "output_type": "error",
     "traceback": [
      "\u001b[0;31m---------------------------------------------------------------------------\u001b[0m",
      "\u001b[0;31mNameError\u001b[0m                                 Traceback (most recent call last)",
      "Cell \u001b[0;32mIn [6], line 1\u001b[0m\n\u001b[0;32m----> 1\u001b[0m x_axis \u001b[38;5;241m=\u001b[39m \u001b[43mpyinterp\u001b[49m\u001b[38;5;241m.\u001b[39mAxis(numpy\u001b[38;5;241m.\u001b[39marange(\u001b[38;5;241m-\u001b[39m\u001b[38;5;241m180.0\u001b[39m, \u001b[38;5;241m180.0\u001b[39m, \u001b[38;5;241m1.0\u001b[39m), is_circle\u001b[38;5;241m=\u001b[39m\u001b[38;5;28;01mTrue\u001b[39;00m)\n",
      "\u001b[0;31mNameError\u001b[0m: name 'pyinterp' is not defined"
     ]
    }
   ],
   "source": [
    "x_axis = pyinterp.Axis(numpy.arange(-180.0, 180.0, 1.0), is_circle=True)"
   ]
  },
  {
   "cell_type": "code",
   "execution_count": 5,
   "id": "1ee62bb7-f79e-4327-928c-c68ae519320b",
   "metadata": {},
   "outputs": [
    {
     "name": "stdout",
     "output_type": "stream",
     "text": [
      "Collecting pykrige\n",
      "  Using cached PyKrige-1.7.0-cp39-cp39-manylinux_2_17_x86_64.manylinux2014_x86_64.whl (860 kB)\n",
      "Requirement already satisfied: numpy<2,>=1.14.5 in /srv/conda/envs/notebook/lib/python3.9/site-packages (from pykrige) (1.23.3)\n",
      "Requirement already satisfied: scipy<2,>=1.1.0 in /srv/conda/envs/notebook/lib/python3.9/site-packages (from pykrige) (1.9.1)\n",
      "Installing collected packages: pykrige\n",
      "Successfully installed pykrige-1.7.0\n"
     ]
    }
   ],
   "source": [
    "!pip install pykrige"
   ]
  },
  {
   "cell_type": "code",
   "execution_count": 12,
   "id": "b20af578-1a72-42cd-889e-2c678da2cc9f",
   "metadata": {},
   "outputs": [],
   "source": [
    "sample = sample_batch[0][0, :, :, :]"
   ]
  },
  {
   "cell_type": "code",
   "execution_count": 13,
   "id": "21c56432-9cf7-4303-a9e1-b523a9cfd4a7",
   "metadata": {},
   "outputs": [],
   "source": [
    "sample_y = sample_batch[1][0, :, :, :]"
   ]
  },
  {
   "cell_type": "code",
   "execution_count": 14,
   "id": "5c9962dd-d78d-4c3f-b293-00b3aa117fde",
   "metadata": {},
   "outputs": [
    {
     "name": "stdout",
     "output_type": "stream",
     "text": [
      "(12, 64, 64)\n"
     ]
    }
   ],
   "source": [
    "print(sample.shape)"
   ]
  },
  {
   "cell_type": "code",
   "execution_count": 15,
   "id": "98243865-7438-41d9-ab54-3ab7a8bfdd0b",
   "metadata": {},
   "outputs": [
    {
     "name": "stdout",
     "output_type": "stream",
     "text": [
      "(12, 64, 64)\n"
     ]
    }
   ],
   "source": [
    "print(sample_y.shape)"
   ]
  },
  {
   "cell_type": "code",
   "execution_count": 34,
   "id": "23b863a9-dc10-40e5-83c8-1b288a26bdfc",
   "metadata": {},
   "outputs": [],
   "source": [
    "sample_t_y = sample_batch[1][0, :, :, :]"
   ]
  },
  {
   "cell_type": "code",
   "execution_count": 17,
   "id": "0fe710e4-7a8f-4294-8ce8-b196eb902efb",
   "metadata": {},
   "outputs": [],
   "source": [
    "sample = sample.numpy()"
   ]
  },
  {
   "cell_type": "code",
   "execution_count": 19,
   "id": "849c4543-67e0-4539-b947-c0375dd6152c",
   "metadata": {},
   "outputs": [
    {
     "name": "stdout",
     "output_type": "stream",
     "text": [
      "37151\n"
     ]
    }
   ],
   "source": [
    "print((sample == 0).sum())"
   ]
  },
  {
   "cell_type": "code",
   "execution_count": 21,
   "id": "af8713e8-1dce-4f9a-86cb-35c73d8b6edf",
   "metadata": {},
   "outputs": [
    {
     "name": "stdout",
     "output_type": "stream",
     "text": [
      "49152\n"
     ]
    }
   ],
   "source": [
    "print(sample.size)"
   ]
  },
  {
   "cell_type": "code",
   "execution_count": 22,
   "id": "aace0393-5228-4bc0-b28d-21527191e1b1",
   "metadata": {},
   "outputs": [],
   "source": [
    "sample_y = sample_y.numpy()"
   ]
  },
  {
   "cell_type": "code",
   "execution_count": 25,
   "id": "328fb303-0d90-4c25-b9cf-5b1e905d6a61",
   "metadata": {},
   "outputs": [
    {
     "name": "stdout",
     "output_type": "stream",
     "text": [
      "37151\n"
     ]
    }
   ],
   "source": [
    "print((np.isnan(sample_y)).sum())"
   ]
  },
  {
   "cell_type": "code",
   "execution_count": 36,
   "id": "ced36c4c-7e9b-4e48-8c99-f53bd5e72090",
   "metadata": {},
   "outputs": [
    {
     "name": "stdout",
     "output_type": "stream",
     "text": [
      "41291\n",
      "41291\n"
     ]
    }
   ],
   "source": [
    "ind = 11\n"
   ]
  },
  {
   "cell_type": "code",
   "execution_count": 3,
   "id": "a9932706-a91d-4c3a-9c2f-fd9b95c368a1",
   "metadata": {},
   "outputs": [],
   "source": [
    "def np_mse_loss(y_true, y_pred):\n",
    "    mask = ~np.isnan(y_true)\n",
    "    return np.mean(np.square(y_true[mask] - y_pred[mask]))"
   ]
  },
  {
   "cell_type": "code",
   "execution_count": null,
   "id": "98ae78e0-828e-4a2b-ba86-a1a6493a1265",
   "metadata": {},
   "outputs": [],
   "source": [
    "for sample_batch in src_train_dataset:\n",
    "    print(sample_"
   ]
  },
  {
   "cell_type": "code",
   "execution_count": 4,
   "id": "6fd975db-f61c-4865-8196-4632b175e1e8",
   "metadata": {},
   "outputs": [
    {
     "name": "stdout",
     "output_type": "stream",
     "text": [
      "0.0\n",
      "0.0\n",
      "0.0\n",
      "0.0\n",
      "0.0\n",
      "0.0\n",
      "0.0\n",
      "0.0\n",
      "0.0\n",
      "0.0\n",
      "0.0\n",
      "0.0\n",
      "0.0\n",
      "0.0\n",
      "0.0\n",
      "0.0\n",
      "0.0\n",
      "0.0\n",
      "0.0\n",
      "0.0\n",
      "0.0\n",
      "0.0\n",
      "0.0\n",
      "0.0\n",
      "0.0\n",
      "0.0\n",
      "0.0\n",
      "0.0\n",
      "0.0\n",
      "0.0\n",
      "0.0\n",
      "0.0\n",
      "0.0\n",
      "0.0\n",
      "0.0\n",
      "0.0\n",
      "0.0\n",
      "0.0\n",
      "0.0\n",
      "0.0\n",
      "0.0\n",
      "0.0\n",
      "0.0\n",
      "0.0\n",
      "0.0\n",
      "0.0\n",
      "0.0\n",
      "0.0\n",
      "0.0\n",
      "0.0\n",
      "0.0\n",
      "0.0\n",
      "0.0\n",
      "0.0\n",
      "0.0\n",
      "0.0\n",
      "0.0\n",
      "0.0\n",
      "0.0\n",
      "0.0\n",
      "0.0\n",
      "0.0\n",
      "0.0\n",
      "0.0\n",
      "0.0\n",
      "0.0\n",
      "0.0\n",
      "0.0\n",
      "0.0\n",
      "0.0\n",
      "0.0\n",
      "0.0\n",
      "0.0\n",
      "0.0\n",
      "0.0\n",
      "0.0\n",
      "0.0\n",
      "0.0\n",
      "0.0\n",
      "0.0\n",
      "0.0\n",
      "0.0\n",
      "0.0\n",
      "0.0\n",
      "0.0\n",
      "0.0\n",
      "0.0\n",
      "0.0\n",
      "0.0\n",
      "0.0\n",
      "0.0\n",
      "0.0\n",
      "0.0\n",
      "0.0\n",
      "0.0\n",
      "0.0\n",
      "0.0\n",
      "0.0\n",
      "0.0\n",
      "0.0\n",
      "0.0\n",
      "0.0\n",
      "0.0\n",
      "0.0\n",
      "0.0\n",
      "0.0\n",
      "0.0\n",
      "0.0\n",
      "0.0\n",
      "0.0\n",
      "0.0\n",
      "0.0\n",
      "0.0\n",
      "0.0\n",
      "0.0\n",
      "0.0\n",
      "0.0\n",
      "0.0\n",
      "0.0\n",
      "0.0\n",
      "0.0\n",
      "0.0\n",
      "0.0\n",
      "0.0\n",
      "0.0\n",
      "0.0\n",
      "0.0\n",
      "0.0\n",
      "0.0\n",
      "0.0\n",
      "0.0\n",
      "0.0\n",
      "0.0\n",
      "0.0\n",
      "0.0\n",
      "0.0\n",
      "0.0\n",
      "0.0\n",
      "0.0\n",
      "0.0\n",
      "0.0\n",
      "0.0\n",
      "0.0\n",
      "0.0\n",
      "0.0\n",
      "0.0\n",
      "0.0\n",
      "0.0\n",
      "0.0\n",
      "0.0\n",
      "0.0\n",
      "0.0\n",
      "0.0\n",
      "0.0\n",
      "0.0\n",
      "0.0\n",
      "0.0\n",
      "0.0\n",
      "0.0\n",
      "0.0\n",
      "0.0\n",
      "0.00038390353\n",
      "0.0012074142\n",
      "0.0011506485\n",
      "0.0011355755\n",
      "0.0011298398\n",
      "0.0011221112\n",
      "0.0014748177\n",
      "0.0018686926\n",
      "0.0019140439\n",
      "0.0020599575\n",
      "0.0022301439\n",
      "0.0023176915\n",
      "0.0018923624\n",
      "0.00091178465\n",
      "0.00092692097\n",
      "0.00094261183\n",
      "0.00096401357\n",
      "0.0009889946\n",
      "0.0005072607\n",
      "0.0\n",
      "0.0\n",
      "0.0\n",
      "0.0\n",
      "0.0\n",
      "0.00014809787\n",
      "0.00026027052\n",
      "0.00025582782\n",
      "0.00024801373\n",
      "0.00023874598\n",
      "0.0002329542\n",
      "0.00023578854\n",
      "0.00024369832\n",
      "0.00025308243\n",
      "0.0002734516\n",
      "0.00030299122\n",
      "0.00034205872\n",
      "0.0001537801\n",
      "0.0\n",
      "0.0\n",
      "0.0\n",
      "0.0\n",
      "0.0\n",
      "0.0015642551\n",
      "0.0032622714\n",
      "0.003233217\n",
      "0.003111127\n",
      "0.003075708\n",
      "0.0029061746\n",
      "0.003020004\n",
      "0.0032754554\n",
      "0.0033270498\n",
      "0.0035114202\n",
      "0.004008148\n",
      "0.003925529\n",
      "0.0018171052\n",
      "0.0\n",
      "0.0\n",
      "0.0\n",
      "0.0\n",
      "0.0\n",
      "0.0\n",
      "0.0\n",
      "0.0\n",
      "0.0\n",
      "0.0\n",
      "0.0\n",
      "0.00022804533\n",
      "0.0\n",
      "0.0\n",
      "0.0\n",
      "0.0\n",
      "0.0\n",
      "0.0\n",
      "0.0\n",
      "0.0\n",
      "0.0\n",
      "0.0\n",
      "0.0\n",
      "0.0\n",
      "0.0\n",
      "0.0\n",
      "0.0\n",
      "0.0\n",
      "0.0\n",
      "0.0\n",
      "0.0\n",
      "0.0\n",
      "0.0\n",
      "0.0\n",
      "0.0\n",
      "0.0\n",
      "0.0\n",
      "0.0\n",
      "0.0\n",
      "0.0\n",
      "0.0\n",
      "0.0009792816\n",
      "0.0018626034\n",
      "0.0018293142\n",
      "0.0018203002\n",
      "0.0017646308\n",
      "0.0016066397\n",
      "0.0014200159\n",
      "0.0012712294\n",
      "0.001178124\n",
      "0.0011272173\n",
      "0.0010918338\n",
      "0.0010754298\n",
      "0.0005549932\n",
      "0.0\n",
      "0.0\n",
      "0.0\n",
      "0.0\n",
      "0.0\n",
      "0.0\n",
      "0.0\n",
      "0.0\n",
      "0.0\n",
      "0.0\n",
      "0.0\n",
      "0.0\n",
      "0.0\n",
      "0.0\n",
      "0.0\n",
      "0.0\n",
      "0.0\n",
      "0.0\n",
      "0.0\n",
      "0.0\n",
      "0.0\n",
      "0.0\n",
      "0.0\n",
      "0.0\n",
      "0.0\n",
      "0.0\n",
      "0.0\n",
      "0.0\n",
      "0.0\n",
      "0.0\n",
      "0.0\n",
      "0.0\n",
      "0.0\n",
      "0.0\n",
      "0.0\n",
      "0.0\n",
      "0.0\n",
      "0.0\n",
      "0.0\n",
      "0.0\n",
      "0.0\n",
      "0.0\n",
      "0.0\n",
      "0.0\n",
      "0.0\n",
      "0.0\n",
      "0.0\n",
      "0.0\n",
      "0.0\n",
      "0.0\n",
      "0.0\n",
      "0.0\n",
      "0.0\n",
      "0.0\n",
      "0.0\n",
      "0.0\n",
      "0.0\n",
      "0.0\n",
      "0.0\n",
      "0.0\n",
      "0.0\n",
      "0.0\n",
      "0.0\n",
      "0.0\n",
      "0.0\n",
      "0.0\n",
      "0.0\n",
      "0.0\n",
      "0.0\n",
      "0.0\n",
      "0.0\n",
      "0.00023898152\n",
      "0.0002583879\n",
      "0.00026439398\n",
      "0.00026418222\n",
      "0.00026595726\n",
      "0.00026834925\n",
      "0.00029054098\n",
      "0.00029681541\n",
      "0.0003011664\n",
      "0.0003401407\n",
      "0.00040039758\n",
      "0.00048787968\n",
      "0.0\n",
      "0.0\n",
      "0.0\n",
      "0.0\n",
      "0.0\n",
      "0.0\n",
      "0.0\n",
      "0.0\n",
      "0.0\n",
      "0.0\n",
      "0.0\n",
      "0.0\n",
      "0.0\n",
      "0.0\n",
      "0.0\n",
      "0.0\n",
      "0.0\n",
      "0.0\n",
      "0.0\n",
      "0.0\n",
      "0.0\n",
      "0.0\n",
      "0.0\n",
      "0.0\n",
      "0.0\n",
      "0.0\n",
      "0.0\n",
      "0.0\n",
      "0.0\n",
      "0.0\n",
      "0.0\n",
      "0.0\n",
      "0.0\n",
      "0.0\n",
      "0.0\n",
      "0.0\n",
      "0.0\n",
      "1.0429579\n"
     ]
    }
   ],
   "source": [
    "for sample_batch in src_train_dataset:\n",
    "    for ind in range(12):\n",
    "        sample = sample_batch[0][ind, :, :, :].numpy()\n",
    "        sample_y = sample_batch[1][ind, :, :, :].numpy()\n",
    "        loss = np_mse_loss(sample_y, sample)\n",
    "        print(loss)\n",
    "        if loss > 1:\n",
    "            break\n",
    "    if loss > 1:\n",
    "        break\n",
    "            "
   ]
  },
  {
   "cell_type": "code",
   "execution_count": 15,
   "id": "ee2ea52f-081e-43b9-910f-84def5b64c79",
   "metadata": {},
   "outputs": [
    {
     "name": "stdout",
     "output_type": "stream",
     "text": [
      "1.0429579\n"
     ]
    }
   ],
   "source": [
    "print(np_mse_loss(sample_y, sample))"
   ]
  },
  {
   "cell_type": "code",
   "execution_count": 18,
   "id": "cc3b0881-f5b7-487e-b6de-ca2564abe0ca",
   "metadata": {},
   "outputs": [],
   "source": [
    "import matplotlib.pyplot as plt"
   ]
  },
  {
   "cell_type": "code",
   "execution_count": 28,
   "id": "1212682f-de1f-4126-9049-1405125c2fc9",
   "metadata": {},
   "outputs": [],
   "source": [
    "import tensorflow as tf"
   ]
  },
  {
   "cell_type": "code",
   "execution_count": 29,
   "id": "6b972c7e-bc96-44d3-946a-97d6de287292",
   "metadata": {},
   "outputs": [],
   "source": [
    "ten = tf.convert_to_tensor(np.array([[1, np.nan], [2, 3]]))"
   ]
  },
  {
   "cell_type": "code",
   "execution_count": 30,
   "id": "8bcb2bd9-3e0c-4edb-a373-11c7a10807c0",
   "metadata": {},
   "outputs": [
    {
     "name": "stdout",
     "output_type": "stream",
     "text": [
      "tf.Tensor(\n",
      "[[ 1. nan]\n",
      " [ 2.  3.]], shape=(2, 2), dtype=float64)\n"
     ]
    }
   ],
   "source": [
    "print(ten)"
   ]
  },
  {
   "cell_type": "code",
   "execution_count": 33,
   "id": "fd803efa-b72f-4d6e-8252-9a378182ca8f",
   "metadata": {},
   "outputs": [],
   "source": [
    "def fn():\n",
    "    return np.array([1, np.nan])"
   ]
  },
  {
   "cell_type": "code",
   "execution_count": null,
   "id": "92615686-cbda-4ac8-a248-c020b40ca0d9",
   "metadata": {},
   "outputs": [],
   "source": []
  },
  {
   "cell_type": "code",
   "execution_count": 14,
   "id": "8c26123f-55bd-4282-8628-cd4c02b26fa2",
   "metadata": {},
   "outputs": [
    {
     "data": {
      "text/plain": [
       "<matplotlib.colorbar.Colorbar at 0x7fd7fc6eeee0>"
      ]
     },
     "execution_count": 14,
     "metadata": {},
     "output_type": "execute_result"
    },
    {
     "data": {
      "image/png": "[encoded data removed]",
      "text/plain": [
       "<Figure size 640x480 with 2 Axes>"
      ]
     },
     "metadata": {},
     "output_type": "display_data"
    }
   ],
   "source": [
    "plt.imshow(sample[0, :, :] == 0, cmap='gray')\n",
    "plt.colorbar()"
   ]
  },
  {
   "cell_type": "code",
   "execution_count": 12,
   "id": "931d16e6-fd3e-4900-bf02-ed31d0eb232f",
   "metadata": {},
   "outputs": [
    {
     "data": {
      "text/plain": [
       "<matplotlib.image.AxesImage at 0x7effb84791c0>"
      ]
     },
     "execution_count": 12,
     "metadata": {},
     "output_type": "execute_result"
    },
    {
     "data": {
      "image/png": "[encoded data removed]",
      "text/plain": [
       "<Figure size 640x480 with 1 Axes>"
      ]
     },
     "metadata": {},
     "output_type": "display_data"
    }
   ],
   "source": [
    "plt.imshow(np.isnan(sample_y[0, :, :]))"
   ]
  },
  {
   "cell_type": "code",
   "execution_count": 7,
   "id": "3548e3a8-4ab7-4f0d-bd2a-1479945906e6",
   "metadata": {},
   "outputs": [],
   "source": [
    "sample[sample == 0] = np.nan"
   ]
  },
  {
   "cell_type": "code",
   "execution_count": 54,
   "id": "6b237d50-85d5-4fc8-97ac-035ac905304c",
   "metadata": {},
   "outputs": [
    {
     "name": "stdout",
     "output_type": "stream",
     "text": [
      "Collecting pykrige\n",
      "  Using cached PyKrige-1.7.0-cp39-cp39-manylinux_2_17_x86_64.manylinux2014_x86_64.whl (860 kB)\n",
      "Requirement already satisfied: numpy<2,>=1.14.5 in /srv/conda/envs/notebook/lib/python3.9/site-packages (from pykrige) (1.23.3)\n",
      "Requirement already satisfied: scipy<2,>=1.1.0 in /srv/conda/envs/notebook/lib/python3.9/site-packages (from pykrige) (1.9.1)\n",
      "Installing collected packages: pykrige\n",
      "Successfully installed pykrige-1.7.0\n"
     ]
    }
   ],
   "source": [
    "!pip install pykrige"
   ]
  },
  {
   "cell_type": "code",
   "execution_count": 16,
   "id": "38615ec3-2650-4bc1-91ea-e8f823b21a8a",
   "metadata": {},
   "outputs": [],
   "source": [
    "import pykrige.kriging_tools as kt\n",
    "from pykrige.ok import OrdinaryKriging\n",
    "\n",
    "data = np.array(\n",
    "    [\n",
    "        [0.3, 1.2, 0.47],\n",
    "        [1.9, 0.6, 0.56],\n",
    "        [1.1, 3.2, 0.74],\n",
    "        [3.3, 4.4, 1.47],\n",
    "        [4.7, 3.8, 1.74],\n",
    "    ]\n",
    ")\n",
    "\n",
    "gridx = np.arange(0.0, 5.5, 0.5)\n",
    "gridy = np.arange(0.0, 5.5, 0.5)\n"
   ]
  },
  {
   "cell_type": "code",
   "execution_count": 5,
   "id": "14235370-3d75-4278-a49e-3e944c8dbd3d",
   "metadata": {},
   "outputs": [],
   "source": [
    "\n",
    "from pykrige.ok3d import OrdinaryKriging3D\n",
    "from pykrige.uk3d import UniversalKriging3D"
   ]
  },
  {
   "cell_type": "code",
   "execution_count": 8,
   "id": "8b1afcd7-1940-4860-afab-80bf4e299190",
   "metadata": {},
   "outputs": [],
   "source": [
    "locs = np.where(~np.isnan(sample))"
   ]
  },
  {
   "cell_type": "code",
   "execution_count": 9,
   "id": "c9b4086c-7bce-45da-b616-41db93df85eb",
   "metadata": {},
   "outputs": [
    {
     "name": "stdout",
     "output_type": "stream",
     "text": [
      "(11544,)\n"
     ]
    }
   ],
   "source": [
    "print(locs[2].shape)"
   ]
  },
  {
   "cell_type": "code",
   "execution_count": 20,
   "id": "c424f1eb-4727-4c1e-8ddc-f8278d37707f",
   "metadata": {},
   "outputs": [
    {
     "name": "stdout",
     "output_type": "stream",
     "text": [
      "(array([ 0,  0,  0, ..., 11, 11, 11]), array([ 0,  0,  0, ..., 63, 63, 63]), array([ 0,  1,  2, ..., 61, 62, 63]))\n"
     ]
    }
   ],
   "source": [
    "print(locs)"
   ]
  },
  {
   "cell_type": "code",
   "execution_count": 23,
   "id": "bf7807ab-9591-4fba-a29d-a48d9fddd382",
   "metadata": {},
   "outputs": [],
   "source": [
    "data_arr = sample[locs[0], locs[1], locs[2]]"
   ]
  },
  {
   "cell_type": "code",
   "execution_count": 24,
   "id": "87e2d6bb-2f83-4f10-afba-fec3a8836583",
   "metadata": {},
   "outputs": [
    {
     "name": "stdout",
     "output_type": "stream",
     "text": [
      "[-3.3268228 -3.312258  -3.2794707 ... -0.8567458 -0.827594  -0.827594 ]\n"
     ]
    }
   ],
   "source": [
    "print(data_arr)"
   ]
  },
  {
   "cell_type": "code",
   "execution_count": 25,
   "id": "633bd851-ff79-4117-a3f8-3b391870e323",
   "metadata": {},
   "outputs": [
    {
     "name": "stdout",
     "output_type": "stream",
     "text": [
      "(11544,)\n"
     ]
    }
   ],
   "source": [
    "print(data_arr.shape)"
   ]
  },
  {
   "cell_type": "code",
   "execution_count": 32,
   "id": "2af496f2-a4df-465e-93f2-d1aa6b24456a",
   "metadata": {},
   "outputs": [],
   "source": [
    "gridx = np.arange(0.0, sample.shape[1])\n",
    "gridy = np.arange(0.0, sample.shape[2])\n",
    "gridz = np.arange(0.0, sample.shape[0])"
   ]
  },
  {
   "cell_type": "code",
   "execution_count": 27,
   "id": "975342dd-c2a7-4466-aade-2319443ee326",
   "metadata": {},
   "outputs": [
    {
     "name": "stdout",
     "output_type": "stream",
     "text": [
      "Adjusting data for anisotropy...\n",
      "Initializing variogram model...\n",
      "Using 'linear' Variogram Model\n",
      "Slope: 0.03179996710245831\n",
      "Nugget: 1.1024766601683322e-23 \n",
      "\n",
      "Calculating statistics on variogram model fit...\n"
     ]
    },
    {
     "ename": "KeyboardInterrupt",
     "evalue": "",
     "output_type": "error",
     "traceback": [
      "\u001b[0;31m---------------------------------------------------------------------------\u001b[0m",
      "\u001b[0;31mKeyboardInterrupt\u001b[0m                         Traceback (most recent call last)",
      "Cell \u001b[0;32mIn [27], line 1\u001b[0m\n\u001b[0;32m----> 1\u001b[0m ok3d \u001b[38;5;241m=\u001b[39m \u001b[43mOrdinaryKriging3D\u001b[49m\u001b[43m(\u001b[49m\n\u001b[1;32m      2\u001b[0m \u001b[43m    \u001b[49m\u001b[43mlocs\u001b[49m\u001b[43m[\u001b[49m\u001b[38;5;241;43m1\u001b[39;49m\u001b[43m]\u001b[49m\u001b[43m,\u001b[49m\u001b[43m \u001b[49m\u001b[43mlocs\u001b[49m\u001b[43m[\u001b[49m\u001b[38;5;241;43m2\u001b[39;49m\u001b[43m]\u001b[49m\u001b[43m,\u001b[49m\u001b[43m \u001b[49m\u001b[43mlocs\u001b[49m\u001b[43m[\u001b[49m\u001b[38;5;241;43m0\u001b[39;49m\u001b[43m]\u001b[49m\u001b[43m,\u001b[49m\u001b[43m \u001b[49m\u001b[43mdata_arr\u001b[49m\u001b[43m,\u001b[49m\u001b[43m \u001b[49m\u001b[43mvariogram_model\u001b[49m\u001b[38;5;241;43m=\u001b[39;49m\u001b[38;5;124;43m\"\u001b[39;49m\u001b[38;5;124;43mlinear\u001b[39;49m\u001b[38;5;124;43m\"\u001b[39;49m\u001b[43m,\u001b[49m\u001b[43m \u001b[49m\u001b[43mverbose\u001b[49m\u001b[38;5;241;43m=\u001b[39;49m\u001b[38;5;28;43;01mTrue\u001b[39;49;00m\n\u001b[1;32m      3\u001b[0m \u001b[43m)\u001b[49m\n\u001b[1;32m      4\u001b[0m k3d1, ss3d \u001b[38;5;241m=\u001b[39m ok3d\u001b[38;5;241m.\u001b[39mexecute(\u001b[38;5;124m\"\u001b[39m\u001b[38;5;124mgrid\u001b[39m\u001b[38;5;124m\"\u001b[39m, gridx, gridy, gridz)\n",
      "File \u001b[0;32m/srv/conda/envs/notebook/lib/python3.9/site-packages/pykrige/ok3d.py:352\u001b[0m, in \u001b[0;36mOrdinaryKriging3D.__init__\u001b[0;34m(self, x, y, z, val, variogram_model, variogram_parameters, variogram_function, nlags, weight, anisotropy_scaling_y, anisotropy_scaling_z, anisotropy_angle_x, anisotropy_angle_y, anisotropy_angle_z, verbose, enable_plotting, exact_values, pseudo_inv, pseudo_inv_type)\u001b[0m\n\u001b[1;32m    350\u001b[0m \u001b[38;5;28;01mif\u001b[39;00m \u001b[38;5;28mself\u001b[39m\u001b[38;5;241m.\u001b[39mverbose:\n\u001b[1;32m    351\u001b[0m     \u001b[38;5;28mprint\u001b[39m(\u001b[38;5;124m\"\u001b[39m\u001b[38;5;124mCalculating statistics on variogram model fit...\u001b[39m\u001b[38;5;124m\"\u001b[39m)\n\u001b[0;32m--> 352\u001b[0m \u001b[38;5;28mself\u001b[39m\u001b[38;5;241m.\u001b[39mdelta, \u001b[38;5;28mself\u001b[39m\u001b[38;5;241m.\u001b[39msigma, \u001b[38;5;28mself\u001b[39m\u001b[38;5;241m.\u001b[39mepsilon \u001b[38;5;241m=\u001b[39m \u001b[43m_find_statistics\u001b[49m\u001b[43m(\u001b[49m\n\u001b[1;32m    353\u001b[0m \u001b[43m    \u001b[49m\u001b[43mnp\u001b[49m\u001b[38;5;241;43m.\u001b[39;49m\u001b[43mvstack\u001b[49m\u001b[43m(\u001b[49m\u001b[43m(\u001b[49m\u001b[38;5;28;43mself\u001b[39;49m\u001b[38;5;241;43m.\u001b[39;49m\u001b[43mX_ADJUSTED\u001b[49m\u001b[43m,\u001b[49m\u001b[43m \u001b[49m\u001b[38;5;28;43mself\u001b[39;49m\u001b[38;5;241;43m.\u001b[39;49m\u001b[43mY_ADJUSTED\u001b[49m\u001b[43m,\u001b[49m\u001b[43m \u001b[49m\u001b[38;5;28;43mself\u001b[39;49m\u001b[38;5;241;43m.\u001b[39;49m\u001b[43mZ_ADJUSTED\u001b[49m\u001b[43m)\u001b[49m\u001b[43m)\u001b[49m\u001b[38;5;241;43m.\u001b[39;49m\u001b[43mT\u001b[49m\u001b[43m,\u001b[49m\n\u001b[1;32m    354\u001b[0m \u001b[43m    \u001b[49m\u001b[38;5;28;43mself\u001b[39;49m\u001b[38;5;241;43m.\u001b[39;49m\u001b[43mVALUES\u001b[49m\u001b[43m,\u001b[49m\n\u001b[1;32m    355\u001b[0m \u001b[43m    \u001b[49m\u001b[38;5;28;43mself\u001b[39;49m\u001b[38;5;241;43m.\u001b[39;49m\u001b[43mvariogram_function\u001b[49m\u001b[43m,\u001b[49m\n\u001b[1;32m    356\u001b[0m \u001b[43m    \u001b[49m\u001b[38;5;28;43mself\u001b[39;49m\u001b[38;5;241;43m.\u001b[39;49m\u001b[43mvariogram_model_parameters\u001b[49m\u001b[43m,\u001b[49m\n\u001b[1;32m    357\u001b[0m \u001b[43m    \u001b[49m\u001b[38;5;124;43m\"\u001b[39;49m\u001b[38;5;124;43meuclidean\u001b[39;49m\u001b[38;5;124;43m\"\u001b[39;49m\u001b[43m,\u001b[49m\n\u001b[1;32m    358\u001b[0m \u001b[43m    \u001b[49m\u001b[38;5;28;43mself\u001b[39;49m\u001b[38;5;241;43m.\u001b[39;49m\u001b[43mpseudo_inv\u001b[49m\u001b[43m,\u001b[49m\n\u001b[1;32m    359\u001b[0m \u001b[43m\u001b[49m\u001b[43m)\u001b[49m\n\u001b[1;32m    360\u001b[0m \u001b[38;5;28mself\u001b[39m\u001b[38;5;241m.\u001b[39mQ1 \u001b[38;5;241m=\u001b[39m core\u001b[38;5;241m.\u001b[39mcalcQ1(\u001b[38;5;28mself\u001b[39m\u001b[38;5;241m.\u001b[39mepsilon)\n\u001b[1;32m    361\u001b[0m \u001b[38;5;28mself\u001b[39m\u001b[38;5;241m.\u001b[39mQ2 \u001b[38;5;241m=\u001b[39m core\u001b[38;5;241m.\u001b[39mcalcQ2(\u001b[38;5;28mself\u001b[39m\u001b[38;5;241m.\u001b[39mepsilon)\n",
      "File \u001b[0;32m/srv/conda/envs/notebook/lib/python3.9/site-packages/pykrige/core.py:834\u001b[0m, in \u001b[0;36m_find_statistics\u001b[0;34m(X, y, variogram_function, variogram_model_parameters, coordinates_type, pseudo_inv)\u001b[0m\n\u001b[1;32m    831\u001b[0m     \u001b[38;5;28;01mcontinue\u001b[39;00m\n\u001b[1;32m    833\u001b[0m \u001b[38;5;28;01melse\u001b[39;00m:\n\u001b[0;32m--> 834\u001b[0m     k, ss \u001b[38;5;241m=\u001b[39m \u001b[43m_krige\u001b[49m\u001b[43m(\u001b[49m\n\u001b[1;32m    835\u001b[0m \u001b[43m        \u001b[49m\u001b[43mX\u001b[49m\u001b[43m[\u001b[49m\u001b[43m:\u001b[49m\u001b[43mi\u001b[49m\u001b[43m,\u001b[49m\u001b[43m \u001b[49m\u001b[43m:\u001b[49m\u001b[43m]\u001b[49m\u001b[43m,\u001b[49m\n\u001b[1;32m    836\u001b[0m \u001b[43m        \u001b[49m\u001b[43my\u001b[49m\u001b[43m[\u001b[49m\u001b[43m:\u001b[49m\u001b[43mi\u001b[49m\u001b[43m]\u001b[49m\u001b[43m,\u001b[49m\n\u001b[1;32m    837\u001b[0m \u001b[43m        \u001b[49m\u001b[43mX\u001b[49m\u001b[43m[\u001b[49m\u001b[43mi\u001b[49m\u001b[43m,\u001b[49m\u001b[43m \u001b[49m\u001b[43m:\u001b[49m\u001b[43m]\u001b[49m\u001b[43m,\u001b[49m\n\u001b[1;32m    838\u001b[0m \u001b[43m        \u001b[49m\u001b[43mvariogram_function\u001b[49m\u001b[43m,\u001b[49m\n\u001b[1;32m    839\u001b[0m \u001b[43m        \u001b[49m\u001b[43mvariogram_model_parameters\u001b[49m\u001b[43m,\u001b[49m\n\u001b[1;32m    840\u001b[0m \u001b[43m        \u001b[49m\u001b[43mcoordinates_type\u001b[49m\u001b[43m,\u001b[49m\n\u001b[1;32m    841\u001b[0m \u001b[43m        \u001b[49m\u001b[43mpseudo_inv\u001b[49m\u001b[43m,\u001b[49m\n\u001b[1;32m    842\u001b[0m \u001b[43m    \u001b[49m\u001b[43m)\u001b[49m\n\u001b[1;32m    844\u001b[0m     \u001b[38;5;66;03m# if the estimation error is zero, it's probably because\u001b[39;00m\n\u001b[1;32m    845\u001b[0m     \u001b[38;5;66;03m# the evaluation point X[i, :] is really close to one of the\u001b[39;00m\n\u001b[1;32m    846\u001b[0m     \u001b[38;5;66;03m# kriging system points in X[:i, :]...\u001b[39;00m\n\u001b[1;32m    847\u001b[0m     \u001b[38;5;66;03m# in the case of zero estimation error, the results are not stored\u001b[39;00m\n\u001b[1;32m    848\u001b[0m     \u001b[38;5;28;01mif\u001b[39;00m np\u001b[38;5;241m.\u001b[39mabsolute(ss) \u001b[38;5;241m<\u001b[39m eps:\n",
      "File \u001b[0;32m/srv/conda/envs/notebook/lib/python3.9/site-packages/pykrige/core.py:776\u001b[0m, in \u001b[0;36m_krige\u001b[0;34m(X, y, coords, variogram_function, variogram_model_parameters, coordinates_type, pseudo_inv)\u001b[0m\n\u001b[1;32m    774\u001b[0m     res \u001b[38;5;241m=\u001b[39m np\u001b[38;5;241m.\u001b[39mlinalg\u001b[38;5;241m.\u001b[39mlstsq(a, b, rcond\u001b[38;5;241m=\u001b[39m\u001b[38;5;28;01mNone\u001b[39;00m)[\u001b[38;5;241m0\u001b[39m]\n\u001b[1;32m    775\u001b[0m \u001b[38;5;28;01melse\u001b[39;00m:\n\u001b[0;32m--> 776\u001b[0m     res \u001b[38;5;241m=\u001b[39m \u001b[43mnp\u001b[49m\u001b[38;5;241;43m.\u001b[39;49m\u001b[43mlinalg\u001b[49m\u001b[38;5;241;43m.\u001b[39;49m\u001b[43msolve\u001b[49m\u001b[43m(\u001b[49m\u001b[43ma\u001b[49m\u001b[43m,\u001b[49m\u001b[43m \u001b[49m\u001b[43mb\u001b[49m\u001b[43m)\u001b[49m\n\u001b[1;32m    777\u001b[0m zinterp \u001b[38;5;241m=\u001b[39m np\u001b[38;5;241m.\u001b[39msum(res[:n, \u001b[38;5;241m0\u001b[39m] \u001b[38;5;241m*\u001b[39m y)\n\u001b[1;32m    778\u001b[0m sigmasq \u001b[38;5;241m=\u001b[39m np\u001b[38;5;241m.\u001b[39msum(res[:, \u001b[38;5;241m0\u001b[39m] \u001b[38;5;241m*\u001b[39m \u001b[38;5;241m-\u001b[39mb[:, \u001b[38;5;241m0\u001b[39m])\n",
      "File \u001b[0;32m<__array_function__ internals>:180\u001b[0m, in \u001b[0;36msolve\u001b[0;34m(*args, **kwargs)\u001b[0m\n",
      "File \u001b[0;32m/srv/conda/envs/notebook/lib/python3.9/site-packages/numpy/linalg/linalg.py:400\u001b[0m, in \u001b[0;36msolve\u001b[0;34m(a, b)\u001b[0m\n\u001b[1;32m    398\u001b[0m signature \u001b[38;5;241m=\u001b[39m \u001b[38;5;124m'\u001b[39m\u001b[38;5;124mDD->D\u001b[39m\u001b[38;5;124m'\u001b[39m \u001b[38;5;28;01mif\u001b[39;00m isComplexType(t) \u001b[38;5;28;01melse\u001b[39;00m \u001b[38;5;124m'\u001b[39m\u001b[38;5;124mdd->d\u001b[39m\u001b[38;5;124m'\u001b[39m\n\u001b[1;32m    399\u001b[0m extobj \u001b[38;5;241m=\u001b[39m get_linalg_error_extobj(_raise_linalgerror_singular)\n\u001b[0;32m--> 400\u001b[0m r \u001b[38;5;241m=\u001b[39m \u001b[43mgufunc\u001b[49m\u001b[43m(\u001b[49m\u001b[43ma\u001b[49m\u001b[43m,\u001b[49m\u001b[43m \u001b[49m\u001b[43mb\u001b[49m\u001b[43m,\u001b[49m\u001b[43m \u001b[49m\u001b[43msignature\u001b[49m\u001b[38;5;241;43m=\u001b[39;49m\u001b[43msignature\u001b[49m\u001b[43m,\u001b[49m\u001b[43m \u001b[49m\u001b[43mextobj\u001b[49m\u001b[38;5;241;43m=\u001b[39;49m\u001b[43mextobj\u001b[49m\u001b[43m)\u001b[49m\n\u001b[1;32m    402\u001b[0m \u001b[38;5;28;01mreturn\u001b[39;00m wrap(r\u001b[38;5;241m.\u001b[39mastype(result_t, copy\u001b[38;5;241m=\u001b[39m\u001b[38;5;28;01mFalse\u001b[39;00m))\n",
      "\u001b[0;31mKeyboardInterrupt\u001b[0m: "
     ]
    }
   ],
   "source": [
    "ok3d = OrdinaryKriging3D(\n",
    "    locs[1], locs[2], locs[0], data_arr, variogram_model=\"linear\", verbose=True\n",
    ")\n",
    "print(\"Done\")\n",
    "k3d1, ss3d = ok3d.execute(\"grid\", gridx, gridy, gridz)\n"
   ]
  },
  {
   "cell_type": "code",
   "execution_count": 33,
   "id": "846766b0-0fcd-4efe-85ef-0b63c0bd03d9",
   "metadata": {},
   "outputs": [
    {
     "name": "stdout",
     "output_type": "stream",
     "text": [
      "Adjusting data for anisotropy...\n",
      "Initializing variogram model...\n",
      "Using 'linear' Variogram Model\n",
      "Slope: 7.971728529467342e-08\n",
      "Nugget: 0.000286702300005397 \n",
      "\n",
      "Calculating statistics on variogram model fit...\n",
      "Q1 = 0.35039755959967583\n",
      "Q2 = 1.8013876189207998\n",
      "cR = 0.0007727201446623131 \n",
      "\n",
      "Initializing drift terms...\n",
      "Done\n",
      "Executing Ordinary Kriging...\n",
      "\n"
     ]
    }
   ],
   "source": [
    "uk3d = UniversalKriging3D(\n",
    "    locs[1][:5], locs[2][:5], locs[0][:5], data_arr[:5], variogram_model=\"linear\", verbose=True\n",
    ")\n",
    "print(\"Done\")\n",
    "k3d1, ss3d = uk3d.execute(\"grid\", gridx, gridy, gridz)\n"
   ]
  },
  {
   "cell_type": "code",
   "execution_count": 36,
   "id": "cd549d21-86e0-45d1-a0c8-874ef5790b5a",
   "metadata": {},
   "outputs": [
    {
     "name": "stdout",
     "output_type": "stream",
     "text": [
      "11544\n"
     ]
    }
   ],
   "source": [
    "print(len(locs[1]))"
   ]
  },
  {
   "cell_type": "code",
   "execution_count": 52,
   "id": "a3ddd3f0-8dcd-46cf-860f-88b749250241",
   "metadata": {},
   "outputs": [],
   "source": [
    "arr = np.zeros((len(locs[0]), 4))\n",
    "arr[:, 0] = locs[2]\n",
    "arr[:, 1] = locs[1]\n",
    "arr[:, 2] = locs[0]\n",
    "arr[:, 3] = data_arr"
   ]
  },
  {
   "cell_type": "code",
   "execution_count": 38,
   "id": "212c48ad-f23d-424b-bc27-3655bb474bce",
   "metadata": {},
   "outputs": [
    {
     "name": "stdout",
     "output_type": "stream",
     "text": [
      "[[ 0.          0.          0.         -3.32682276]\n",
      " [ 0.          1.          0.         -3.31225801]\n",
      " [ 0.          2.          0.         -3.27947068]\n",
      " ...\n",
      " [63.         61.         11.         -0.85674578]\n",
      " [63.         62.         11.         -0.82759398]\n",
      " [63.         63.         11.         -0.82759398]]\n"
     ]
    }
   ],
   "source": [
    "print(arr)"
   ]
  },
  {
   "cell_type": "code",
   "execution_count": 53,
   "id": "832108cb-b1a3-4d07-a3c6-c20d49028533",
   "metadata": {},
   "outputs": [],
   "source": [
    "np.random.shuffle(arr)"
   ]
  },
  {
   "cell_type": "code",
   "execution_count": 40,
   "id": "6c97316a-8fc5-46de-ab24-def51d925f2c",
   "metadata": {},
   "outputs": [
    {
     "name": "stdout",
     "output_type": "stream",
     "text": [
      "[[23.         46.          4.         -1.99339974]\n",
      " [34.         57.          4.         -0.66729236]\n",
      " [ 9.         12.          3.         -3.34868121]\n",
      " ...\n",
      " [ 1.          5.          1.         -3.5478518 ]\n",
      " [ 0.         24.         11.         -2.88236332]\n",
      " [ 6.          4.          0.         -3.03294754]]\n"
     ]
    }
   ],
   "source": [
    "print(arr)"
   ]
  },
  {
   "cell_type": "code",
   "execution_count": 54,
   "id": "59b68cc3-86dc-4a59-95aa-e94c8ce46c9d",
   "metadata": {},
   "outputs": [
    {
     "name": "stdout",
     "output_type": "stream",
     "text": [
      "Adjusting data for anisotropy...\n",
      "Initializing variogram model...\n",
      "Using 'linear' Variogram Model\n",
      "Slope: 0.030635563779679912\n",
      "Nugget: 5.662414934757643e-13 \n",
      "\n",
      "Calculating statistics on variogram model fit...\n",
      "Q1 = 0.01154367925643355\n",
      "Q2 = 0.2781768446439894\n",
      "cR = 0.021267075153006087 \n",
      "\n",
      "Initializing drift terms...\n",
      "Done\n",
      "Executing Ordinary Kriging...\n",
      "\n"
     ]
    }
   ],
   "source": [
    "uk3d = UniversalKriging3D(\n",
    "    arr[:1000, 0], arr[:1000, 1], arr[:1000, 2], arr[:1000, 3], variogram_model=\"linear\", verbose=True\n",
    ")\n",
    "print(\"Done\")\n",
    "vals, ss3d = uk3d.execute(\"grid\", gridx, gridy, gridz)\n"
   ]
  },
  {
   "cell_type": "code",
   "execution_count": 58,
   "id": "9469e270-96a3-4ee1-a84d-a446224dd99a",
   "metadata": {},
   "outputs": [
    {
     "name": "stdout",
     "output_type": "stream",
     "text": [
      "Adjusting data for anisotropy...\n",
      "Initializing variogram model...\n",
      "Using 'linear' Variogram Model\n",
      "Slope: 0.024421017447178745\n",
      "Nugget: 0.06452598678067974 \n",
      "\n",
      "Calculating statistics on variogram model fit...\n",
      "Q1 = 0.06310833369025527\n",
      "Q2 = 0.347611011966507\n",
      "cR = 0.09412352334896608 \n",
      "\n",
      "Initializing drift terms...\n",
      "Done\n",
      "Executing Ordinary Kriging...\n",
      "\n"
     ]
    }
   ],
   "source": [
    "uk3d = UniversalKriging3D(\n",
    "    arr[:100, 0], arr[:100, 1], arr[:100, 2], arr[:100, 3], variogram_model=\"linear\", verbose=True\n",
    ")\n",
    "print(\"Done\")\n",
    "vals_worse, ss3d = uk3d.execute(\"grid\", gridx, gridy, gridz)\n"
   ]
  },
  {
   "cell_type": "code",
   "execution_count": 68,
   "id": "2b443a37-ee9e-4853-baaa-7d9b56c3ee3f",
   "metadata": {},
   "outputs": [
    {
     "name": "stdout",
     "output_type": "stream",
     "text": [
      "Adjusting data for anisotropy...\n",
      "Initializing variogram model...\n",
      "Using 'linear' Variogram Model\n",
      "Slope: 0.024421017447178745\n",
      "Nugget: 0.06452598678067974 \n",
      "\n",
      "Calculating statistics on variogram model fit...\n",
      "Q1 = 0.06310833369025527\n",
      "Q2 = 0.347611011966507\n",
      "cR = 0.09412352334896608 \n",
      "\n",
      "Done\n",
      "Executing Ordinary Kriging...\n",
      "\n"
     ]
    }
   ],
   "source": [
    "ok3d = OrdinaryKriging3D(\n",
    "    arr[:100, 0], arr[:100, 1], arr[:100, 2], arr[:100, 3], variogram_model=\"linear\", verbose=True\n",
    ")\n",
    "print(\"Done\")\n",
    "vals_worse_o, ss3d = uk3d.execute(\"grid\", gridx, gridy, gridz)\n"
   ]
  },
  {
   "cell_type": "code",
   "execution_count": 63,
   "id": "20309d57-5ea2-402f-a015-ca92a6d89ef4",
   "metadata": {},
   "outputs": [],
   "source": [
    "sample[np.isnan(sample)] = 0"
   ]
  },
  {
   "cell_type": "code",
   "execution_count": 64,
   "id": "9ec3e182-d0ef-464a-ae4b-e045ef9b40cc",
   "metadata": {},
   "outputs": [
    {
     "name": "stdout",
     "output_type": "stream",
     "text": [
      "1.0429579\n"
     ]
    }
   ],
   "source": [
    "print(np_mse_loss(sample_y, sample))"
   ]
  },
  {
   "cell_type": "code",
   "execution_count": 66,
   "id": "8fabc511-3269-48f3-ac85-1d8350b7bce7",
   "metadata": {},
   "outputs": [
    {
     "name": "stdout",
     "output_type": "stream",
     "text": [
      "0.05103166380921519\n"
     ]
    }
   ],
   "source": [
    "print(np_mse_loss(sample_y, vals_worse))"
   ]
  },
  {
   "cell_type": "code",
   "execution_count": 67,
   "id": "deb170f7-79af-4ecf-91db-3aa56381eeba",
   "metadata": {},
   "outputs": [
    {
     "name": "stdout",
     "output_type": "stream",
     "text": [
      "0.01747680606426463\n"
     ]
    }
   ],
   "source": [
    "print(np_mse_loss(sample_y, vals))"
   ]
  },
  {
   "cell_type": "code",
   "execution_count": 70,
   "id": "20691339-b036-4644-8b33-bc80a47497bb",
   "metadata": {},
   "outputs": [
    {
     "name": "stdout",
     "output_type": "stream",
     "text": [
      "0.05103166380921519\n"
     ]
    }
   ],
   "source": [
    "print(np_mse_loss(sample_y, vals_worse_o))"
   ]
  },
  {
   "cell_type": "code",
   "execution_count": null,
   "id": "f9f04f66-0f85-4892-bb2f-3f1868b86f7c",
   "metadata": {},
   "outputs": [],
   "source": []
  },
  {
   "cell_type": "code",
   "execution_count": 69,
   "id": "5d59158f-60ea-4aa3-aab1-003391aaf371",
   "metadata": {},
   "outputs": [
    {
     "data": {
      "text/plain": [
       "<matplotlib.image.AxesImage at 0x7eff84cfa0a0>"
      ]
     },
     "execution_count": 69,
     "metadata": {},
     "output_type": "execute_result"
    },
    {
     "data": {
      "image/png": "[encoded data removed]",
      "text/plain": [
       "<Figure size 640x480 with 1 Axes>"
      ]
     },
     "metadata": {},
     "output_type": "display_data"
    }
   ],
   "source": [
    "plt.imshow(vals_worse_o[0, :, :])"
   ]
  },
  {
   "cell_type": "code",
   "execution_count": 59,
   "id": "0178fc4e-079b-42f6-8aa2-42e22d8c5158",
   "metadata": {},
   "outputs": [
    {
     "data": {
      "text/plain": [
       "<matplotlib.image.AxesImage at 0x7eff84d7bee0>"
      ]
     },
     "execution_count": 59,
     "metadata": {},
     "output_type": "execute_result"
    },
    {
     "data": {
      "image/png": "[encoded data removed]",
      "text/plain": [
       "<Figure size 640x480 with 1 Axes>"
      ]
     },
     "metadata": {},
     "output_type": "display_data"
    }
   ],
   "source": [
    "plt.imshow(vals_worse[0, :, :])"
   ]
  },
  {
   "cell_type": "code",
   "execution_count": 55,
   "id": "4aa7d4e4-1bc2-4f9e-b524-688ce003694b",
   "metadata": {},
   "outputs": [
    {
     "data": {
      "text/plain": [
       "<matplotlib.image.AxesImage at 0x7eff84e909a0>"
      ]
     },
     "execution_count": 55,
     "metadata": {},
     "output_type": "execute_result"
    },
    {
     "data": {
      "image/png": "[encoded data removed]",
      "text/plain": [
       "<Figure size 640x480 with 1 Axes>"
      ]
     },
     "metadata": {},
     "output_type": "display_data"
    }
   ],
   "source": [
    "plt.imshow(vals[0, :, :])"
   ]
  },
  {
   "cell_type": "code",
   "execution_count": 56,
   "id": "76f92580-6f4b-43ea-90bc-50b0afa61640",
   "metadata": {},
   "outputs": [
    {
     "data": {
      "text/plain": [
       "<matplotlib.image.AxesImage at 0x7eff84e09970>"
      ]
     },
     "execution_count": 56,
     "metadata": {},
     "output_type": "execute_result"
    },
    {
     "data": {
      "image/png": "[encoded data removed]",
      "text/plain": [
       "<Figure size 640x480 with 1 Axes>"
      ]
     },
     "metadata": {},
     "output_type": "display_data"
    }
   ],
   "source": [
    "plt.imshow(sample[0, :, :])"
   ]
  },
  {
   "cell_type": "code",
   "execution_count": 2,
   "id": "e6916777-060a-4737-b762-43aaf456dce7",
   "metadata": {},
   "outputs": [
    {
     "ename": "NameError",
     "evalue": "name 'plt' is not defined",
     "output_type": "error",
     "traceback": [
      "\u001b[0;31m---------------------------------------------------------------------------\u001b[0m",
      "\u001b[0;31mNameError\u001b[0m                                 Traceback (most recent call last)",
      "Cell \u001b[0;32mIn [2], line 1\u001b[0m\n\u001b[0;32m----> 1\u001b[0m \u001b[43mplt\u001b[49m\u001b[38;5;241m.\u001b[39mimshow(sample_y[\u001b[38;5;241m0\u001b[39m, :, :])\n",
      "\u001b[0;31mNameError\u001b[0m: name 'plt' is not defined"
     ]
    }
   ],
   "source": [
    "plt.imshow(sample_y[0, :, :])"
   ]
  },
  {
   "cell_type": "code",
   "execution_count": 45,
   "id": "199454ba-f0ce-4e9c-a7e6-b53b4be07432",
   "metadata": {},
   "outputs": [
    {
     "name": "stdout",
     "output_type": "stream",
     "text": [
      "(12, 64, 64)\n"
     ]
    }
   ],
   "source": [
    "print(k3d1.shape)"
   ]
  },
  {
   "cell_type": "code",
   "execution_count": 35,
   "id": "e42aed25-6d4a-4596-85ea-dbac48860565",
   "metadata": {},
   "outputs": [
    {
     "name": "stdout",
     "output_type": "stream",
     "text": [
      "(12, 64, 64)\n"
     ]
    }
   ],
   "source": [
    "print(k3d1.shape)"
   ]
  },
  {
   "cell_type": "code",
   "execution_count": 31,
   "id": "0a372615-797a-4b93-a8f6-72af8eb50bef",
   "metadata": {},
   "outputs": [
    {
     "name": "stdout",
     "output_type": "stream",
     "text": [
      "11544\n"
     ]
    }
   ],
   "source": [
    "print(len(data_arr))"
   ]
  },
  {
   "cell_type": "code",
   "execution_count": 71,
   "id": "bd3c5b2c-74b0-4b87-9b13-f47977f6327e",
   "metadata": {},
   "outputs": [],
   "source": [
    "from src.models import *"
   ]
  },
  {
   "cell_type": "code",
   "execution_count": 1,
   "id": "e127171e-7091-4405-aae0-e4634e5f23dc",
   "metadata": {},
   "outputs": [
    {
     "name": "stderr",
     "output_type": "stream",
     "text": [
      "2023-07-26 21:26:36.037354: I tensorflow/core/platform/cpu_feature_guard.cc:193] This TensorFlow binary is optimized with oneAPI Deep Neural Network Library (oneDNN) to use the following CPU instructions in performance-critical operations:  SSE4.1 SSE4.2 AVX AVX2 AVX512F AVX512_VNNI FMA\n",
      "To enable them in other operations, rebuild TensorFlow with the appropriate compiler flags.\n",
      "2023-07-26 21:26:36.476823: I tensorflow/core/util/util.cc:169] oneDNN custom operations are on. You may see slightly different numerical results due to floating-point round-off errors from different computation orders. To turn them off, set the environment variable `TF_ENABLE_ONEDNN_OPTS=0`.\n"
     ]
    }
   ],
   "source": [
    "import numpy as np\n",
    "import pandas as pd\n",
    "from pathlib import Path\n",
    "from src.models import *\n",
    "from src.losses import *\n",
    "from src.generators import *"
   ]
  },
  {
   "cell_type": "code",
   "execution_count": 93,
   "id": "ec142aa3-2af9-4d4a-b398-42ce92245b46",
   "metadata": {},
   "outputs": [],
   "source": [
    "def get_trained_ConvLSTM_Seeded(experiment_dir):\n",
    "    #params = pd.read_csv(experiment_dir + '/model_params.csv')\n",
    "    \n",
    "    n_t = 12\n",
    "    tile_size = 64\n",
    "    seed_size = 100\n",
    "    filter_size = 64\n",
    "    filter_depth = 1\n",
    "    model = create_ConvLSTM_Seeded(n_t = n_t, tile_size = tile_size, seed_size = seed_size, filter_size = filter_size, filter_depth = filter_depth)\n",
    "    p = Path(experiment_dir)\n",
    "    pg = list(p.glob(\"*interpolator_weights*.h5\"))\n",
    "    pg.sort()\n",
    "    \n",
    "    model.load_weights(pg[-1])\n",
    "    return model"
   ]
  },
  {
   "cell_type": "code",
   "execution_count": 94,
   "id": "5ed15d09-d2ef-48d7-b752-693e22e3d174",
   "metadata": {},
   "outputs": [],
   "source": [
    "model_seeded = get_trained_ConvLSTM_Seeded(\"experiments/experiment_2023-07-26_14:19:25.398247\")"
   ]
  },
  {
   "cell_type": "code",
   "execution_count": 98,
   "id": "7ecb19bd-e97f-40b1-8a64-3813d5a9c494",
   "metadata": {},
   "outputs": [],
   "source": [
    "def evaluate_ConvLSTM_Seeded(model, dataset):\n",
    "    src_seed_size = 100\n",
    "    \n",
    "    counter = 0\n",
    "    tot = 0\n",
    "    for batch in dataset:\n",
    "        batch_x, batch_y = batch\n",
    "        print(batch_x.shape)\n",
    "        for ind in range(batch_x.shape[0]):\n",
    "            x = tf.reshape(batch_x[ind, :, :, :], (1, 12, 64, 64, 1))\n",
    "            y = batch_y[ind, :, :, :]\n",
    "            \n",
    "            noise = tf.random.normal([x.shape[0], src_seed_size])\n",
    "            pred_outputs = tf.reshape(model([x, noise], training=False), y.shape)\n",
    "            \n",
    "            #plt.imshow(pred_outputs.numpy()[10])\n",
    "            plt.imshow(pred_outputs.numpy()[10])\n",
    "            interp_loss = np_mse_loss(y.numpy(), pred_outputs.numpy())\n",
    "            print(interp_loss)\n",
    "\n",
    "            tot += interp_loss\n",
    "            counter += 1\n",
    "        if counter > 100:\n",
    "            break\n",
    "    return tot/counter"
   ]
  },
  {
   "cell_type": "code",
   "execution_count": 79,
   "id": "5f6e3dda-1b3e-47a7-abde-84e2f56a47f3",
   "metadata": {},
   "outputs": [
    {
     "name": "stdout",
     "output_type": "stream",
     "text": [
      "(12, 12, 64, 64)\n",
      "y 0.3830973307291667\n",
      "[-0.9296142  -0.9053173  -0.88103527 ...  2.305548    2.0724\n",
      "  1.6060822 ]\n",
      "[-0.7603641  -0.5941298  -0.6297045  ...  0.65722847  0.40474418\n",
      "  0.6662056 ]\n",
      "0.39127114\n",
      "y 0.3474324544270833\n",
      "[-0.98788446 -0.97330856 -0.9660373  ...  2.305548    2.0724\n",
      "  1.6060822 ]\n",
      "[-0.65968305 -0.5945701  -0.62962335 ...  0.5238589   0.268379\n",
      "  0.4669906 ]\n",
      "0.3691724\n",
      "y 0.3049519856770833\n",
      "[-0.7292316 -0.7255737 -0.6162822 ...  2.305548   2.0724     1.6060822]\n",
      "[-0.54671943 -0.3992979  -0.43604153 ...  0.70168865  0.40157914\n",
      "  0.68958884]\n",
      "0.51614636\n",
      "y 0.2519124348958333\n",
      "[-0.22283281 -0.21552818 -0.20459902 ...  1.6060822  -0.01881458\n",
      "  0.3163757 ]\n",
      "[ 0.8174268   0.8399872   0.80105805 ...  0.43165517 -0.24715897\n",
      " -0.29062533]\n",
      "0.4152161\n",
      "y 0.19637044270833334\n",
      "[0.13786252 0.12328661 0.12328661 ... 0.3163757  0.5276652  0.30908218]\n",
      "[ 1.0258018  1.1033534  1.0663751 ... -0.3326313 -0.277143  -0.3201332]\n",
      "0.22491184\n",
      "y 0.15614827473958334\n",
      "[0.01277582 0.01762333 0.07106462 ... 0.5276652  0.30908218 2.174398  ]\n",
      "[ 0.8440234   0.89026564  0.8629839  ... -0.33233202 -0.37079078\n",
      " -0.29050547]\n",
      "0.1846896\n",
      "y 0.33026123046875\n",
      "[-3.3268228 -3.312258  -3.2794707 ... -0.8567458 -0.827594  -0.827594 ]\n",
      "[-0.42506874 -0.37389004 -0.4079707  ... -1.5780233  -1.5274676\n",
      " -1.520498  ]\n",
      "2.3948636\n",
      "y 0.33233642578125\n",
      "[-3.4834776 -3.5454059 -3.4943957 ... -0.8373038 -0.8567384 -0.8713106]\n",
      "[-0.79933923 -0.6231639  -0.63399696 ... -1.1238645  -1.0846161\n",
      " -1.0734982 ]\n",
      "2.3353832\n",
      "y 0.34637451171875\n",
      "[-3.5235476  -3.5017114  -3.494418   ... -0.7547256  -0.80573565\n",
      " -0.80938244]\n",
      "[-1.4516958 -1.2928884 -1.334908  ... -0.8460931 -0.8085436 -0.7979678]\n",
      "2.9965322\n",
      "y 0.3289998372395833\n",
      "[-3.3851042  -3.3450344  -3.3159049  ... -0.81300694 -0.827594\n",
      " -0.81300694]\n",
      "[-1.722927  -1.5537851 -1.6250522 ... -2.2193236 -2.1807077 -2.213383 ]\n",
      "2.8372948\n",
      "y 0.3431803385416667\n",
      "[-3.2903998 -3.2466831 -3.1737924 ... -1.1481972 -1.2210433 -1.2210433]\n",
      "[-1.3257788 -1.1025229 -1.134557  ... -1.7581879 -1.9201598 -1.8938693]\n",
      "2.7210903\n",
      "y 0.38134765625\n",
      "[-2.92608    -2.896928   -2.6491933  ... -0.22524175 -0.20095968\n",
      " -0.1766628 ]\n",
      "[-0.99709386 -0.992106   -1.0991266  ... -1.0716325  -1.0325152\n",
      " -1.0198945 ]\n",
      "2.651791\n"
     ]
    },
    {
     "data": {
      "text/plain": [
       "1.5031968864301841"
      ]
     },
     "execution_count": 79,
     "metadata": {},
     "output_type": "execute_result"
    },
    {
     "data": {
      "image/png": "[encoded data removed]",
      "text/plain": [
       "<Figure size 640x480 with 1 Axes>"
      ]
     },
     "metadata": {},
     "output_type": "display_data"
    }
   ],
   "source": [
    "evaluate_ConvLSTM_Seeded(model, [sample_batch])"
   ]
  },
  {
   "cell_type": "code",
   "execution_count": null,
   "id": "ba14ff9b-4c3d-4715-8282-b8c293e9f518",
   "metadata": {},
   "outputs": [],
   "source": []
  },
  {
   "cell_type": "code",
   "execution_count": 88,
   "id": "7eecceee-a40d-4ddc-a6da-3021b605ef6a",
   "metadata": {},
   "outputs": [],
   "source": [
    "def np_mse_loss(y_true, y_pred):\n",
    "    mask = ~np.isnan(y_true)\n",
    "    # print(\"y\", mask.sum()/y_true.size)\n",
    "    # print(y_true[mask])\n",
    "    # print(y_pred[mask])\n",
    "    return np.mean(np.square(y_true[mask] - y_pred[mask]))\n",
    "\n",
    "def evaluate_baseline(dataset):\n",
    "    counter = 0\n",
    "    tot = 0\n",
    "    for batch in dataset:\n",
    "        batch_x, batch_y = batch\n",
    "        batch_x = batch_x.numpy()\n",
    "        batch_y = batch_y.numpy()\n",
    "        for ind in range(batch_x.shape[0]):\n",
    "            x = batch_x[ind, :, :, :]\n",
    "            y = batch_y[ind, :, :, :]\n",
    "            \n",
    "            locs = np.where(x != 0)\n",
    "            #print(\"x\", len(locs[0])/x.size)\n",
    "\n",
    "            gridx = np.arange(0.0, x.shape[1])\n",
    "            gridy = np.arange(0.0, x.shape[2])\n",
    "            gridz = np.arange(0.0, x.shape[0])\n",
    "            arr = np.zeros((len(locs[0]), 4))\n",
    "\n",
    "            data_arr = x[locs[0], locs[1], locs[2]]\n",
    "\n",
    "            arr[:, 0] = locs[2]\n",
    "            arr[:, 1] = locs[1]\n",
    "            arr[:, 2] = locs[0]\n",
    "            arr[:, 3] = data_arr\n",
    "            np.random.shuffle(arr)\n",
    "            uk3d = UniversalKriging3D(\n",
    "                arr[:100, 0], arr[:100, 1], arr[:100, 2], arr[:100, 3], variogram_model=\"linear\", verbose=False\n",
    "            )\n",
    "            vals, ss3d = uk3d.execute(\"grid\", gridx, gridy, gridz)\n",
    "            interp_loss = np_mse_loss(y, vals)\n",
    "            plt.imshow(vals[10])\n",
    "            print(\"Loss\", interp_loss)\n",
    "            tot += interp_loss\n",
    "            counter += 1\n",
    "        if counter > 100:\n",
    "            break\n",
    "    return tot/counter\n",
    "        \n",
    "\n",
    "        "
   ]
  },
  {
   "cell_type": "code",
   "execution_count": 58,
   "id": "303cfbbf-d63d-4e7c-9eac-29cf635c46c0",
   "metadata": {},
   "outputs": [
    {
     "name": "stdout",
     "output_type": "stream",
     "text": [
      "x 0.3830973307291667\n",
      "y 0.3830973307291667\n",
      "[-0.9296142  -0.9053173  -0.88103527 ...  2.305548    2.0724\n",
      "  1.6060822 ]\n",
      "[0.05094457439046018 0.05094457476276487 0.050944575193689993 ...\n",
      " 0.05094459779780166 0.05094460734287866 0.05094459966722077]\n",
      "Loss 0.47689233560998157\n",
      "x 0.3474324544270833\n",
      "y 0.3474324544270833\n",
      "[-0.98788446 -0.97330856 -0.9660373  ...  2.305548    2.0724\n",
      "  1.6060822 ]\n",
      "[0.13189418097621738 0.13189418098914202 0.13189418100331546 ...\n",
      " 0.13189418066971131 0.13189418076416948 0.131894180677795]\n",
      "Loss 0.4513277946996863\n",
      "x 0.3049519856770833\n",
      "y 0.3049519856770833\n",
      "[-0.7292316 -0.7255737 -0.6162822 ...  2.305548   2.0724     1.6060822]\n",
      "[-0.09526054679219068 -0.09614943706850416 -0.09635628965146657 ...\n",
      " 0.25360564353146875 0.2957180142393936 0.2719226141453273]\n",
      "Loss 0.3030371552632537\n",
      "x 0.2519124348958333\n",
      "y 0.2519124348958333\n",
      "[-0.22283281 -0.21552818 -0.20459902 ...  1.6060822  -0.01881458\n",
      "  0.3163757 ]\n",
      "[-0.11216234958164058 -0.10894765811532901 -0.10404161908424038 ...\n",
      " 0.3954280644613366 0.5284939705828963 0.5412433015787242]\n",
      "Loss 0.2613396157130851\n",
      "x 0.19637044270833334\n",
      "y 0.19637044270833334\n",
      "[0.13786252 0.12328661 0.12328661 ... 0.3163757  0.5276652  0.30908218]\n",
      "[0.07640592954126035 0.06175532143611329 0.048514006719622055 ...\n",
      " 1.1054343786585084 0.9490557311505963 0.9996860437357221]\n",
      "Loss 0.2453686589032047\n",
      "x 0.15614827473958334\n",
      "y 0.15614827473958334\n",
      "[0.01277582 0.01762333 0.07106462 ... 0.5276652  0.30908218 2.174398  ]\n",
      "[-0.30187312981004827 -0.3191856876526 -0.311349717325376 ...\n",
      " 1.0637821299029522 1.090534691628186 1.1113972910307235]\n",
      "Loss 0.11686507037328922\n",
      "x 0.23486328125\n",
      "y 0.33026123046875\n",
      "[-3.3268228 -3.312258  -3.2794707 ... -0.8567458 -0.827594  -0.827594 ]\n",
      "[-3.2161017395554516 -3.236777242593344 -3.2560165071223817 ...\n",
      " -0.733011436136273 -0.732726547698444 -0.7329823336100864]\n",
      "Loss 0.0419816126773704\n",
      "x 0.24454752604166666\n",
      "y 0.33233642578125\n",
      "[-3.4834776 -3.5454059 -3.4943957 ... -0.8373038 -0.8567384 -0.8713106]\n",
      "[-2.6402084972698066 -2.687086495826972 -2.7369835031218144 ...\n",
      " -0.8049018593126858 -0.8145974401151047 -0.820818305765766]\n",
      "Loss 0.06389218487252683\n",
      "x 0.266845703125\n",
      "y 0.34637451171875\n",
      "[-3.5235476  -3.5017114  -3.494418   ... -0.7547256  -0.80573565\n",
      " -0.80938244]\n",
      "[-2.9591526782108395 -2.98747155773856 -3.017062980039524 ...\n",
      " -0.8122232545155863 -0.8090589831613104 -0.8093824386596374]\n",
      "Loss 0.04205103988296334\n",
      "x 0.2784627278645833\n",
      "y 0.3289998372395833\n",
      "[-3.3851042  -3.3450344  -3.3159049  ... -0.81300694 -0.827594\n",
      " -0.81300694]\n",
      "[-3.0910453933139066 -3.1348584886398365 -3.171390785415546 ...\n",
      " -0.832483071476796 -0.8414459565226032 -0.8475249556319928]\n",
      "Loss 0.060325603313278964\n",
      "x 0.3055216471354167\n",
      "y 0.3431803385416667\n",
      "[-3.2903998 -3.2466831 -3.1737924 ... -1.1481972 -1.2210433 -1.2210433]\n",
      "[-3.1351747168812074 -3.184925598890779 -3.221666876658874 ...\n",
      " -0.7891681446611271 -0.8079797578402866 -0.793751329544105]\n",
      "Loss 0.059005630587408216\n",
      "x 0.33697509765625\n",
      "y 0.38134765625\n",
      "[-2.92608    -2.896928   -2.6491933  ... -0.22524175 -0.20095968\n",
      " -0.1766628 ]\n",
      "[-2.455182052503818 -2.45974242683142 -2.4980552102576707 ...\n",
      " -0.6905405261324002 -0.688373750544375 -0.6869692377736217]\n",
      "Loss 0.06813208108082165\n"
     ]
    },
    {
     "data": {
      "text/plain": [
       "0.18251823191473915"
      ]
     },
     "execution_count": 58,
     "metadata": {},
     "output_type": "execute_result"
    },
    {
     "data": {
      "image/png": "[encoded data removed]",
      "text/plain": [
       "<Figure size 640x480 with 1 Axes>"
      ]
     },
     "metadata": {},
     "output_type": "display_data"
    }
   ],
   "source": [
    "evaluate_baseline([sample_batch])"
   ]
  },
  {
   "cell_type": "code",
   "execution_count": 68,
   "id": "75581bd9-661c-4148-b032-34e4315b422a",
   "metadata": {},
   "outputs": [],
   "source": [
    "def get_trained_ConvLSTM(experiment_dir):\n",
    "    # params = pd.read_csv(experiment_dir + '/model_params.csv')\n",
    "    # sample_size = params['src_sample_size'].iloc[0]\n",
    "    # tile_size = params['src_tile_size'].iloc[0]\n",
    "    sample_size = 12\n",
    "    tile_size = 64\n",
    "    model = create_ConvLSTM(n_t = sample_size, tile_size = tile_size)\n",
    "\n",
    "    model.load_weights(\"weights/convlstm_sst_attempt_2023-07-17 14:59:27.218455.h5\")\n",
    "    return model"
   ]
  },
  {
   "cell_type": "code",
   "execution_count": 70,
   "id": "81c68f9c-11c2-40c8-a6db-33eeb51261b7",
   "metadata": {},
   "outputs": [],
   "source": [
    "model2 = get_trained_ConvLSTM(\"hi\")"
   ]
  },
  {
   "cell_type": "code",
   "execution_count": 71,
   "id": "6f4197b4-f73c-445e-bbfa-589220bf8ff3",
   "metadata": {},
   "outputs": [
    {
     "name": "stdout",
     "output_type": "stream",
     "text": [
      "Model: \"model_7\"\n",
      "__________________________________________________________________________________________________\n",
      " Layer (type)                   Output Shape         Param #     Connected to                     \n",
      "==================================================================================================\n",
      " input_5 (InputLayer)           [(None, 12, 64, 64,  0           []                               \n",
      "                                 1)]                                                              \n",
      "                                                                                                  \n",
      " conv3d_38 (Conv3D)             (None, 12, 32, 32,   272         ['input_5[0][0]']                \n",
      "                                16)                                                               \n",
      "                                                                                                  \n",
      " batch_normalization_22 (BatchN  (None, 12, 32, 32,   64         ['conv3d_38[0][0]']              \n",
      " ormalization)                  16)                                                               \n",
      "                                                                                                  \n",
      " conv3d_39 (Conv3D)             (None, 12, 32, 32,   4112        ['batch_normalization_22[0][0]'] \n",
      "                                16)                                                               \n",
      "                                                                                                  \n",
      " batch_normalization_23 (BatchN  (None, 12, 32, 32,   64         ['conv3d_39[0][0]']              \n",
      " ormalization)                  16)                                                               \n",
      "                                                                                                  \n",
      " conv3d_40 (Conv3D)             (None, 12, 32, 32,   4112        ['batch_normalization_23[0][0]'] \n",
      "                                16)                                                               \n",
      "                                                                                                  \n",
      " tf.__operators__.add_12 (TFOpL  (None, 12, 32, 32,   0          ['conv3d_40[0][0]',              \n",
      " ambda)                         16)                               'batch_normalization_22[0][0]'] \n",
      "                                                                                                  \n",
      " activation_12 (Activation)     (None, 12, 32, 32,   0           ['tf.__operators__.add_12[0][0]']\n",
      "                                16)                                                               \n",
      "                                                                                                  \n",
      " conv3d_41 (Conv3D)             (None, 12, 16, 16,   8224        ['activation_12[0][0]']          \n",
      "                                32)                                                               \n",
      "                                                                                                  \n",
      " batch_normalization_24 (BatchN  (None, 12, 16, 16,   128        ['conv3d_41[0][0]']              \n",
      " ormalization)                  32)                                                               \n",
      "                                                                                                  \n",
      " conv3d_42 (Conv3D)             (None, 12, 16, 16,   16416       ['batch_normalization_24[0][0]'] \n",
      "                                32)                                                               \n",
      "                                                                                                  \n",
      " batch_normalization_25 (BatchN  (None, 12, 16, 16,   128        ['conv3d_42[0][0]']              \n",
      " ormalization)                  32)                                                               \n",
      "                                                                                                  \n",
      " conv3d_43 (Conv3D)             (None, 12, 16, 16,   16416       ['batch_normalization_25[0][0]'] \n",
      "                                32)                                                               \n",
      "                                                                                                  \n",
      " tf.__operators__.add_13 (TFOpL  (None, 12, 16, 16,   0          ['conv3d_43[0][0]',              \n",
      " ambda)                         32)                               'batch_normalization_24[0][0]'] \n",
      "                                                                                                  \n",
      " activation_13 (Activation)     (None, 12, 16, 16,   0           ['tf.__operators__.add_13[0][0]']\n",
      "                                32)                                                               \n",
      "                                                                                                  \n",
      " conv3d_44 (Conv3D)             (None, 12, 8, 8, 32  16416       ['activation_13[0][0]']          \n",
      "                                )                                                                 \n",
      "                                                                                                  \n",
      " batch_normalization_26 (BatchN  (None, 12, 8, 8, 32  128        ['conv3d_44[0][0]']              \n",
      " ormalization)                  )                                                                 \n",
      "                                                                                                  \n",
      " conv3d_45 (Conv3D)             (None, 12, 8, 8, 32  16416       ['batch_normalization_26[0][0]'] \n",
      "                                )                                                                 \n",
      "                                                                                                  \n",
      " batch_normalization_27 (BatchN  (None, 12, 8, 8, 32  128        ['conv3d_45[0][0]']              \n",
      " ormalization)                  )                                                                 \n",
      "                                                                                                  \n",
      " conv3d_46 (Conv3D)             (None, 12, 8, 8, 32  16416       ['batch_normalization_27[0][0]'] \n",
      "                                )                                                                 \n",
      "                                                                                                  \n",
      " tf.__operators__.add_14 (TFOpL  (None, 12, 8, 8, 32  0          ['conv3d_46[0][0]',              \n",
      " ambda)                         )                                 'batch_normalization_26[0][0]'] \n",
      "                                                                                                  \n",
      " activation_14 (Activation)     (None, 12, 8, 8, 32  0           ['tf.__operators__.add_14[0][0]']\n",
      "                                )                                                                 \n",
      "                                                                                                  \n",
      " bidirectional_6 (Bidirectional  (None, 12, 8, 8, 32  98432      ['activation_14[0][0]']          \n",
      " )                              )                                                                 \n",
      "                                                                                                  \n",
      " conv3d_47 (Conv3D)             (None, 12, 8, 8, 32  16416       ['bidirectional_6[0][0]']        \n",
      "                                )                                                                 \n",
      "                                                                                                  \n",
      " batch_normalization_28 (BatchN  (None, 12, 8, 8, 32  128        ['conv3d_47[0][0]']              \n",
      " ormalization)                  )                                                                 \n",
      "                                                                                                  \n",
      " conv3d_48 (Conv3D)             (None, 12, 8, 8, 32  16416       ['batch_normalization_28[0][0]'] \n",
      "                                )                                                                 \n",
      "                                                                                                  \n",
      " tf.__operators__.add_15 (TFOpL  (None, 12, 8, 8, 32  0          ['conv3d_48[0][0]',              \n",
      " ambda)                         )                                 'bidirectional_6[0][0]']        \n",
      "                                                                                                  \n",
      " activation_15 (Activation)     (None, 12, 8, 8, 32  0           ['tf.__operators__.add_15[0][0]']\n",
      "                                )                                                                 \n",
      "                                                                                                  \n",
      " up_sampling3d_6 (UpSampling3D)  (None, 12, 16, 16,   0          ['activation_15[0][0]']          \n",
      "                                32)                                                               \n",
      "                                                                                                  \n",
      " conv3d_49 (Conv3D)             (None, 12, 16, 16,   8208        ['up_sampling3d_6[0][0]']        \n",
      "                                16)                                                               \n",
      "                                                                                                  \n",
      " batch_normalization_29 (BatchN  (None, 12, 16, 16,   64         ['conv3d_49[0][0]']              \n",
      " ormalization)                  16)                                                               \n",
      "                                                                                                  \n",
      " conv3d_50 (Conv3D)             (None, 12, 16, 16,   4112        ['batch_normalization_29[0][0]'] \n",
      "                                16)                                                               \n",
      "                                                                                                  \n",
      " conv3d_51 (Conv3D)             (None, 12, 16, 16,   528         ['up_sampling3d_6[0][0]']        \n",
      "                                16)                                                               \n",
      "                                                                                                  \n",
      " tf.__operators__.add_16 (TFOpL  (None, 12, 16, 16,   0          ['conv3d_50[0][0]',              \n",
      " ambda)                         16)                               'conv3d_51[0][0]']              \n",
      "                                                                                                  \n",
      " activation_16 (Activation)     (None, 12, 16, 16,   0           ['tf.__operators__.add_16[0][0]']\n",
      "                                16)                                                               \n",
      "                                                                                                  \n",
      " up_sampling3d_7 (UpSampling3D)  (None, 12, 32, 32,   0          ['activation_16[0][0]']          \n",
      "                                16)                                                               \n",
      "                                                                                                  \n",
      " conv3d_52 (Conv3D)             (None, 12, 32, 32,   2056        ['up_sampling3d_7[0][0]']        \n",
      "                                8)                                                                \n",
      "                                                                                                  \n",
      " batch_normalization_30 (BatchN  (None, 12, 32, 32,   32         ['conv3d_52[0][0]']              \n",
      " ormalization)                  8)                                                                \n",
      "                                                                                                  \n",
      " conv3d_53 (Conv3D)             (None, 12, 32, 32,   1032        ['batch_normalization_30[0][0]'] \n",
      "                                8)                                                                \n",
      "                                                                                                  \n",
      " conv3d_54 (Conv3D)             (None, 12, 32, 32,   136         ['up_sampling3d_7[0][0]']        \n",
      "                                8)                                                                \n",
      "                                                                                                  \n",
      " tf.__operators__.add_17 (TFOpL  (None, 12, 32, 32,   0          ['conv3d_53[0][0]',              \n",
      " ambda)                         8)                                'conv3d_54[0][0]']              \n",
      "                                                                                                  \n",
      " activation_17 (Activation)     (None, 12, 32, 32,   0           ['tf.__operators__.add_17[0][0]']\n",
      "                                8)                                                                \n",
      "                                                                                                  \n",
      " up_sampling3d_8 (UpSampling3D)  (None, 12, 64, 64,   0          ['activation_17[0][0]']          \n",
      "                                8)                                                                \n",
      "                                                                                                  \n",
      " conv3d_55 (Conv3D)             (None, 12, 64, 64,   1032        ['up_sampling3d_8[0][0]']        \n",
      "                                8)                                                                \n",
      "                                                                                                  \n",
      " batch_normalization_31 (BatchN  (None, 12, 64, 64,   32         ['conv3d_55[0][0]']              \n",
      " ormalization)                  8)                                                                \n",
      "                                                                                                  \n",
      " conv3d_56 (Conv3D)             (None, 12, 64, 64,   9           ['batch_normalization_31[0][0]'] \n",
      "                                1)                                                                \n",
      "                                                                                                  \n",
      "==================================================================================================\n",
      "Total params: 248,073\n",
      "Trainable params: 247,625\n",
      "Non-trainable params: 448\n",
      "__________________________________________________________________________________________________\n"
     ]
    }
   ],
   "source": [
    "model2.summary()"
   ]
  },
  {
   "cell_type": "code",
   "execution_count": 90,
   "id": "a85b6d83-94a3-4225-866e-85ad50caa020",
   "metadata": {},
   "outputs": [],
   "source": [
    "def evaluate_ConvLSTM(model, dataset):\n",
    "    counter = 0\n",
    "    tot = 0\n",
    "    for batch in dataset:\n",
    "        batch_x, batch_y = batch\n",
    "        for ind in range(batch_x.shape[0]):\n",
    "            x = tf.reshape(batch_x[ind, :, :, :], (1, 12, 64, 64, 1))\n",
    "           \n",
    "            y = batch_y[ind, :, :, :]\n",
    "            \n",
    "            pred_outputs = tf.reshape(model(x, training=False), y.shape)\n",
    "\n",
    "            interp_loss = np_mse_loss(y.numpy(), pred_outputs.numpy())\n",
    "            print(\"Loss\", interp_loss)\n",
    "            tot += interp_loss\n",
    "            counter += 1\n",
    "        if counter > 100:\n",
    "            break\n",
    "    return tot/counter"
   ]
  },
  {
   "cell_type": "code",
   "execution_count": null,
   "id": "a1b45a81-b912-406b-86b5-e489f792ab29",
   "metadata": {},
   "outputs": [],
   "source": [
    "evaluate_ConvLSTM_Seeded("
   ]
  },
  {
   "cell_type": "code",
   "execution_count": 91,
   "id": "da60005a-097b-4404-9af3-263a2ad93f68",
   "metadata": {},
   "outputs": [
    {
     "name": "stdout",
     "output_type": "stream",
     "text": [
      "Loss 0.39458534\n",
      "Loss 0.3639173\n",
      "Loss 0.36307994\n",
      "Loss 0.36500835\n",
      "Loss 0.4276721\n",
      "Loss 0.48772782\n",
      "Loss 0.38150916\n",
      "Loss 0.36578456\n",
      "Loss 0.36315855\n",
      "Loss 0.2866515\n",
      "Loss 0.27846277\n",
      "Loss 0.33492902\n",
      "Loss 0.2821052\n",
      "Loss 0.2502105\n",
      "Loss 0.2749192\n",
      "Loss 0.24818084\n",
      "Loss 0.23590901\n",
      "Loss 0.19301634\n",
      "Loss 0.19097237\n",
      "Loss 0.19963661\n",
      "Loss 0.2045563\n",
      "Loss 0.1972149\n",
      "Loss 0.18737482\n",
      "Loss 0.15055604\n",
      "Loss 0.08305678\n",
      "Loss 0.08227667\n",
      "Loss 0.08326775\n",
      "Loss 0.083188154\n",
      "Loss 0.08522043\n",
      "Loss 0.0758415\n",
      "Loss 0.07667402\n",
      "Loss 0.0737051\n",
      "Loss 0.07552195\n",
      "Loss 0.07727142\n",
      "Loss 0.07645661\n",
      "Loss 0.070135646\n",
      "Loss 0.0785809\n",
      "Loss 0.07296173\n",
      "Loss 0.06591712\n",
      "Loss 0.067903675\n",
      "Loss 0.0706656\n",
      "Loss 0.078214854\n",
      "Loss 0.07431292\n",
      "Loss 0.06716744\n",
      "Loss 0.069950655\n",
      "Loss 0.06289443\n",
      "Loss 0.06762916\n",
      "Loss 0.09049685\n",
      "Loss 0.09166465\n",
      "Loss 0.085498184\n",
      "Loss 0.079879895\n",
      "Loss 0.07887814\n",
      "Loss 0.10761888\n",
      "Loss 0.1596722\n",
      "Loss 0.15910605\n",
      "Loss 0.15412022\n",
      "Loss 0.14959659\n",
      "Loss 0.14890881\n",
      "Loss 0.17186274\n",
      "Loss 0.1948008\n",
      "Loss 0.25904915\n",
      "Loss 0.25909334\n",
      "Loss 0.2718279\n",
      "Loss 0.33756974\n",
      "Loss 0.30308712\n",
      "Loss 0.23820482\n",
      "Loss 0.2251161\n",
      "Loss 0.20445576\n",
      "Loss 0.20884235\n",
      "Loss 0.20877506\n",
      "Loss 0.21396679\n",
      "Loss 0.21232396\n",
      "Loss 0.20260821\n",
      "Loss 0.1878169\n",
      "Loss 0.18341264\n",
      "Loss 0.19006588\n",
      "Loss 0.18387693\n",
      "Loss 0.116408594\n",
      "Loss 0.08081607\n",
      "Loss 0.07463832\n",
      "Loss 0.077204876\n",
      "Loss 0.07706871\n",
      "Loss 0.07466222\n",
      "Loss 0.06905949\n",
      "Loss 0.0657291\n",
      "Loss 0.06732763\n",
      "Loss 0.07120426\n",
      "Loss 0.07280983\n",
      "Loss 0.11077724\n",
      "Loss 0.17284827\n",
      "Loss 0.18747313\n",
      "Loss 0.18361157\n",
      "Loss 0.17011964\n",
      "Loss 0.15661375\n",
      "Loss 0.15506312\n",
      "Loss 0.18142906\n",
      "Loss 0.23262237\n",
      "Loss 0.23263127\n",
      "Loss 0.23575184\n",
      "Loss 0.22928482\n",
      "Loss 0.23911867\n",
      "Loss 0.26263282\n",
      "Loss 0.26008493\n",
      "Loss 0.25136712\n",
      "Loss 0.24377578\n",
      "Loss 0.24485797\n",
      "Loss 0.2482876\n",
      "Loss 0.31313452\n"
     ]
    },
    {
     "data": {
      "text/plain": [
       "0.1802459655812493"
      ]
     },
     "execution_count": 91,
     "metadata": {},
     "output_type": "execute_result"
    }
   ],
   "source": [
    "evaluate_ConvLSTM(model2, src_val_dataset)"
   ]
  },
  {
   "cell_type": "code",
   "execution_count": 92,
   "id": "f94616c9-ddec-4041-ba51-7ea5f6b670af",
   "metadata": {},
   "outputs": [
    {
     "name": "stdout",
     "output_type": "stream",
     "text": [
      "Loss 0.31589626448684893\n",
      "Loss 0.3365901711173015\n",
      "Loss 0.32773096958710046\n",
      "Loss 0.32038178136717615\n",
      "Loss 0.43532963025933286\n",
      "Loss 0.42998717234716755\n",
      "Loss 0.9415686388708916\n",
      "Loss 1.164789303835826\n",
      "Loss 0.8336192871336332\n",
      "Loss 1.196671961256961\n",
      "Loss 1.8093872544135443\n",
      "Loss 0.6655703385464901\n",
      "Loss 0.8977586078658866\n",
      "Loss 1.7835534578369971\n",
      "Loss 0.6221179175340864\n",
      "Loss 0.7428758269700423\n",
      "Loss 0.4714200147994933\n",
      "Loss 0.5167890694612864\n",
      "Loss 0.4414785928755656\n",
      "Loss 0.420174657935569\n",
      "Loss 0.4403888851765387\n",
      "Loss 0.5581358563161358\n",
      "Loss 0.39348819398716073\n",
      "Loss 0.30218629543376274\n",
      "Loss 0.1847096048667827\n",
      "Loss 0.17804946790166787\n",
      "Loss 0.3171017276944922\n",
      "Loss 0.2083285922617482\n",
      "Loss 0.21312837276340907\n",
      "Loss 0.26611942794165844\n",
      "Loss 0.22066207647644262\n",
      "Loss 0.2659753239724219\n",
      "Loss 0.26297092324132554\n",
      "Loss 0.15488832791704407\n",
      "Loss 0.28370460533466496\n",
      "Loss 0.13376012817778607\n",
      "Loss 0.15117471606645527\n",
      "Loss 0.10058002902381674\n",
      "Loss 0.18326632395782375\n",
      "Loss 0.1452879477824586\n",
      "Loss 0.18928329399978494\n",
      "Loss 0.1899507914729541\n",
      "Loss 0.18847733997289925\n",
      "Loss 0.13649550919882603\n",
      "Loss 0.28896970347458384\n",
      "Loss 0.1396313763527163\n",
      "Loss 0.13015235785358706\n",
      "Loss 0.19643425917008486\n",
      "Loss 0.1881225776520212\n",
      "Loss 0.3573755081519269\n",
      "Loss 0.24003564349022635\n",
      "Loss 0.2033887921557498\n",
      "Loss 0.22063853183387988\n",
      "Loss 0.36587989926716313\n",
      "Loss 0.4016917113075829\n",
      "Loss 0.37060704383800963\n",
      "Loss 0.35243250628963696\n",
      "Loss 0.5098898485327364\n",
      "Loss 0.5161555935043796\n",
      "Loss 0.5851170106424892\n",
      "Loss 1.2269678855747397\n",
      "Loss 0.8170463440664255\n",
      "Loss 0.9100432633903313\n",
      "Loss 0.8205149541114377\n",
      "Loss 1.321198005942777\n",
      "Loss 0.6835415165204617\n",
      "Loss 1.1490860483661378\n",
      "Loss 1.158861366264694\n",
      "Loss 1.1492408308673705\n",
      "Loss 0.6889914506404335\n",
      "Loss 1.151151726304703\n",
      "Loss 1.1403825887436398\n",
      "Loss 1.0934533894112346\n",
      "Loss 0.6412131183383117\n",
      "Loss 0.5956369874729263\n",
      "Loss 0.8794181082135858\n",
      "Loss 0.9235461583853886\n",
      "Loss 0.5329893155326989\n",
      "Loss 0.1482525281998862\n",
      "Loss 0.14470900718922616\n",
      "Loss 0.1696642413242275\n",
      "Loss 0.3118442758457175\n",
      "Loss 0.17590085755036763\n",
      "Loss 0.1507084322048787\n",
      "Loss 0.06772948313601282\n",
      "Loss 0.18626650718637403\n",
      "Loss 0.16475212420805255\n",
      "Loss 0.15885038791476955\n",
      "Loss 0.14781427200441974\n",
      "Loss 0.17071924198255373\n",
      "Loss 0.1977882412589158\n",
      "Loss 0.5154154283704341\n",
      "Loss 0.23397390573689913\n",
      "Loss 0.17443639876982395\n",
      "Loss 0.2304188935019847\n",
      "Loss 0.2550500960616155\n",
      "Loss 0.5589249852795563\n",
      "Loss 0.6520667180414463\n",
      "Loss 0.729368788104583\n",
      "Loss 0.47123060567212205\n",
      "Loss 0.34800873863781434\n",
      "Loss 0.5605776171323593\n",
      "Loss 0.4467898368042492\n",
      "Loss 0.7010119587313763\n",
      "Loss 0.7031582435329155\n",
      "Loss 0.6873937107723442\n",
      "Loss 0.37764265808265757\n",
      "Loss 1.1181448782932057\n"
     ]
    },
    {
     "data": {
      "text/plain": [
       "0.49305762187624186"
      ]
     },
     "execution_count": 92,
     "metadata": {},
     "output_type": "execute_result"
    },
    {
     "data": {
      "image/png": "[encoded data removed]",
      "text/plain": [
       "<Figure size 640x480 with 1 Axes>"
      ]
     },
     "metadata": {},
     "output_type": "display_data"
    }
   ],
   "source": [
    "evaluate_baseline(src_val_dataset)"
   ]
  },
  {
   "cell_type": "code",
   "execution_count": 99,
   "id": "5e762106-9736-48bb-b32a-b0b2d4b14613",
   "metadata": {},
   "outputs": [
    {
     "name": "stdout",
     "output_type": "stream",
     "text": [
      "(12, 12, 64, 64)\n",
      "1.7797319\n",
      "1.852486\n",
      "2.1502743\n",
      "1.9237766\n",
      "1.8289028\n",
      "2.190841\n",
      "3.4169164\n",
      "3.5446253\n",
      "3.3920078\n",
      "3.242636\n",
      "3.0386612\n",
      "3.035598\n",
      "(12, 12, 64, 64)\n",
      "3.1757061\n",
      "3.2400045\n",
      "3.227189\n",
      "3.1110125\n",
      "3.0108588\n",
      "2.9024727\n",
      "2.6191397\n",
      "2.280751\n",
      "2.3736537\n",
      "2.655221\n",
      "2.2377183\n",
      "1.9765962\n",
      "(12, 12, 64, 64)\n",
      "1.2611593\n",
      "1.2283845\n",
      "1.2054981\n",
      "1.1479883\n",
      "1.2045993\n",
      "1.1436902\n",
      "1.0909383\n",
      "1.2661078\n",
      "1.3933637\n",
      "1.4184055\n",
      "1.3750725\n",
      "1.0739517\n",
      "(12, 12, 64, 64)\n",
      "0.97569776\n",
      "1.0272652\n",
      "1.3480997\n",
      "1.7213662\n",
      "1.5293995\n",
      "1.4016714\n",
      "1.3915209\n",
      "1.4278051\n",
      "1.4255291\n",
      "1.6610271\n",
      "1.843739\n",
      "1.7404753\n",
      "(12, 12, 64, 64)\n",
      "1.6570767\n",
      "1.6850555\n",
      "1.7100247\n",
      "1.7170511\n",
      "1.5880183\n",
      "2.0156484\n",
      "1.842882\n",
      "1.9033511\n",
      "1.8260567\n",
      "1.8770771\n",
      "1.4839121\n",
      "1.6034869\n",
      "(12, 12, 64, 64)\n",
      "2.68787\n",
      "3.0265183\n",
      "3.2990673\n",
      "3.3353288\n",
      "2.6960545\n",
      "2.4863663\n",
      "2.1648717\n",
      "1.9539708\n",
      "1.9506266\n",
      "2.0866582\n",
      "1.6221976\n",
      "1.400407\n",
      "(12, 12, 64, 64)\n",
      "1.2413101\n",
      "1.439586\n",
      "1.4455234\n",
      "1.5251203\n",
      "1.5934694\n",
      "0.982499\n",
      "0.76801556\n",
      "0.7533512\n",
      "0.7658515\n",
      "0.8846951\n",
      "0.9336387\n",
      "1.0088892\n",
      "(12, 12, 64, 64)\n",
      "1.1431258\n",
      "1.0725461\n",
      "1.3294662\n",
      "2.2411752\n",
      "2.6661048\n",
      "2.6213303\n",
      "2.6759596\n",
      "3.0609448\n",
      "3.5493069\n",
      "4.014122\n",
      "4.6693673\n",
      "4.756156\n",
      "(12, 12, 64, 64)\n",
      "0.5919348\n",
      "0.60890543\n",
      "0.6569855\n",
      "0.6160557\n",
      "0.531167\n",
      "0.8216195\n",
      "0.7283212\n",
      "0.74734133\n",
      "0.7811781\n",
      "0.7818607\n",
      "0.7740061\n",
      "1.3447872\n"
     ]
    },
    {
     "data": {
      "text/plain": [
       "1.872729918471089"
      ]
     },
     "execution_count": 99,
     "metadata": {},
     "output_type": "execute_result"
    },
    {
     "data": {
      "image/png": "[encoded data removed]",
      "text/plain": [
       "<Figure size 640x480 with 1 Axes>"
      ]
     },
     "metadata": {},
     "output_type": "display_data"
    },
    {
     "name": "stdout",
     "output_type": "stream",
     "text": [
      "ERROR:tensorflow:==================================\n",
      "Object was never used (type <class 'tensorflow.python.ops.tensor_array_ops.TensorArray'>):\n",
      "<tensorflow.python.ops.tensor_array_ops.TensorArray object at 0x7f39a6f42580>\n",
      "If you want to mark it as used call its \"mark_used()\" method.\n",
      "It was originally created here:\n",
      "  File \"/srv/conda/envs/notebook/lib/python3.9/site-packages/keras/backend.py\", line 5130, in <genexpr>\n",
      "    ta.write(ta_index_to_write, out)  File \"/srv/conda/envs/notebook/lib/python3.9/site-packages/tensorflow/python/util/tf_should_use.py\", line 243, in wrapped\n",
      "    return _add_should_use_warning(fn(*args, **kwargs),\n",
      "==================================\n"
     ]
    },
    {
     "name": "stderr",
     "output_type": "stream",
     "text": [
      "ERROR:tensorflow:==================================\n",
      "Object was never used (type <class 'tensorflow.python.ops.tensor_array_ops.TensorArray'>):\n",
      "<tensorflow.python.ops.tensor_array_ops.TensorArray object at 0x7f39a6f42580>\n",
      "If you want to mark it as used call its \"mark_used()\" method.\n",
      "It was originally created here:\n",
      "  File \"/srv/conda/envs/notebook/lib/python3.9/site-packages/keras/backend.py\", line 5130, in <genexpr>\n",
      "    ta.write(ta_index_to_write, out)  File \"/srv/conda/envs/notebook/lib/python3.9/site-packages/tensorflow/python/util/tf_should_use.py\", line 243, in wrapped\n",
      "    return _add_should_use_warning(fn(*args, **kwargs),\n",
      "==================================\n"
     ]
    }
   ],
   "source": [
    "evaluate_ConvLSTM_Seeded(model_seeded, src_val_dataset)"
   ]
  }
 ],
 "metadata": {
  "kernelspec": {
   "display_name": "Python 3 (ipykernel)",
   "language": "python",
   "name": "python3"
  },
  "language_info": {
   "codemirror_mode": {
    "name": "ipython",
    "version": 3
   },
   "file_extension": ".py",
   "mimetype": "text/x-python",
   "name": "python",
   "nbconvert_exporter": "python",
   "pygments_lexer": "ipython3",
   "version": "3.9.13"
  }
 },
 "nbformat": 4,
 "nbformat_minor": 5
}
