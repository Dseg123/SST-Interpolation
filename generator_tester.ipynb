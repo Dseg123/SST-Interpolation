{
 "cells": [
  {
   "cell_type": "code",
   "execution_count": null,
   "id": "9c55e5fc-d37d-42d6-94ea-5c18ab502fb6",
   "metadata": {},
   "outputs": [],
   "source": [
    "import xarray as xr \n",
    "import matplotlib.pyplot as plt\n",
    "\n",
    "import numpy as np                 #for general calculations.\n",
    "\n",
    "from matplotlib.animation import FuncAnimation  #creating animations and videos.\n",
    "from IPython.display import Video, HTML         #embedding videos in the notebook\n",
    "\n",
    "#this command allows interactive plots in noteboks\n",
    "%matplotlib inline   \n",
    "from pathlib import Path\n",
    "\n",
    "from get_params import params\n",
    "from pipeline.get_raw_data import raw_data\n",
    "from pipeline.get_full_data import full_data\n",
    "from pipeline.get_masked_data import masked_data\n",
    "from pipeline.get_ids import ids\n",
    "\n",
    "from src.generators import DataGenerator"
   ]
  },
  {
   "cell_type": "code",
   "execution_count": 1,
   "id": "f48a29d1-bbbd-436f-be36-60c2ce69329d",
   "metadata": {},
   "outputs": [
    {
     "name": "stdout",
     "output_type": "stream",
     "text": [
      "1\n",
      "2\n",
      "3\n"
     ]
    },
    {
     "ename": "StopIteration",
     "evalue": "",
     "output_type": "error",
     "traceback": [
      "\u001b[0;31m---------------------------------------------------------------------------\u001b[0m",
      "\u001b[0;31mStopIteration\u001b[0m                             Traceback (most recent call last)",
      "Cell \u001b[0;32mIn [1], line 6\u001b[0m\n\u001b[1;32m      4\u001b[0m \u001b[38;5;28mprint\u001b[39m(\u001b[38;5;28mnext\u001b[39m(ite))\n\u001b[1;32m      5\u001b[0m \u001b[38;5;28mprint\u001b[39m(\u001b[38;5;28mnext\u001b[39m(ite))\n\u001b[0;32m----> 6\u001b[0m \u001b[38;5;28mprint\u001b[39m(\u001b[38;5;28;43mnext\u001b[39;49m\u001b[43m(\u001b[49m\u001b[43mite\u001b[49m\u001b[43m)\u001b[49m)\n",
      "\u001b[0;31mStopIteration\u001b[0m: "
     ]
    }
   ],
   "source": [
    "lst = [1, 2, 3]\n",
    "ite = iter(lst)\n",
    "print(next(ite))\n",
    "print(next(ite))\n",
    "print(next(ite))\n",
    "print(next(ite))"
   ]
  },
  {
   "cell_type": "code",
   "execution_count": 1,
   "id": "505aef60-3b59-43f2-a946-97a189fdcf3c",
   "metadata": {},
   "outputs": [
    {
     "name": "stdout",
     "output_type": "stream",
     "text": [
      "hello world\n"
     ]
    }
   ],
   "source": [
    "print(\"hello world\")"
   ]
  },
  {
   "cell_type": "code",
   "execution_count": 1,
   "id": "94af2af6-8c1e-4b9d-bd0c-81cfb3f36da6",
   "metadata": {},
   "outputs": [],
   "source": [
    "\n",
    "import matplotlib.pyplot as plt\n",
    "import imageio"
   ]
  },
  {
   "cell_type": "code",
   "execution_count": 6,
   "id": "1db6c207-b80a-4567-92d5-6deeccc0aad5",
   "metadata": {},
   "outputs": [],
   "source": [
    "train_ids = np.load('data/train_ids.npy')\n",
    "val_ids = np.load('data/val_ids.npy')\n",
    "\n",
    "my_params = params()\n",
    "in_data = my_params['dataDir'] + '/masked_data'\n",
    "out_data = my_params['dataDir'] + '/tile_data'\n"
   ]
  },
  {
   "cell_type": "code",
   "execution_count": 7,
   "id": "c6e3a8b6-487e-41c8-b726-caa7224ca205",
   "metadata": {},
   "outputs": [],
   "source": [
    "def get_summary_stats(tile_stats):\n",
    "    means = tile_stats[:, :, 0]\n",
    "    stds = tile_stats[:, :, 1]\n",
    "    nums = tile_stats[:, :, 2]\n",
    "    \n",
    "    final_num = np.sum(nums)\n",
    "    final_mean = np.nansum(np.multiply(means, nums))/final_num\n",
    "    final_std = np.sqrt(np.nansum(np.multiply(np.square(stds), nums))/final_num)\n",
    "    \n",
    "    return (final_mean, final_std, final_num)"
   ]
  },
  {
   "cell_type": "code",
   "execution_count": 8,
   "id": "11358be3-0bad-4f74-a39a-dc8706d11178",
   "metadata": {},
   "outputs": [],
   "source": [
    "tile_stats = np.load('data/masked_stats.npy')\n",
    "stats = get_summary_stats(tile_stats)"
   ]
  },
  {
   "cell_type": "code",
   "execution_count": 9,
   "id": "e1d80286-4b28-4163-b96c-19edb30de281",
   "metadata": {},
   "outputs": [],
   "source": [
    "train_gen = DataGenerator(list_IDs = train_ids, stats = stats, shuffle = True)\n",
    "val_gen = DataGenerator(list_IDs = val_ids, stats = stats, shuffle = False)"
   ]
  },
  {
   "cell_type": "code",
   "execution_count": 10,
   "id": "b5861bb6-216e-40ba-b956-22f27efefd23",
   "metadata": {},
   "outputs": [
    {
     "name": "stdout",
     "output_type": "stream",
     "text": [
      "10531\n"
     ]
    }
   ],
   "source": [
    "print(train_gen.__len__())"
   ]
  },
  {
   "cell_type": "code",
   "execution_count": 11,
   "id": "626b2e57-2cb1-47ac-9554-b4969a5d7235",
   "metadata": {},
   "outputs": [
    {
     "name": "stdout",
     "output_type": "stream",
     "text": [
      "3375\n"
     ]
    }
   ],
   "source": [
    "print(val_gen.__len__())"
   ]
  },
  {
   "cell_type": "code",
   "execution_count": 17,
   "id": "fe2526f0-09e9-4b98-8153-5ded507e288a",
   "metadata": {},
   "outputs": [
    {
     "name": "stdout",
     "output_type": "stream",
     "text": [
      "\u001b[31mERROR: Could not find a version that satisfies the requirement time (from versions: none)\u001b[0m\u001b[31m\n",
      "\u001b[0m\u001b[31mERROR: No matching distribution found for time\u001b[0m\u001b[31m\n",
      "\u001b[0m"
     ]
    }
   ],
   "source": [
    "!pip install time\n",
    "import time"
   ]
  },
  {
   "cell_type": "code",
   "execution_count": 20,
   "id": "8b487da1-b103-418f-b146-c30eff138006",
   "metadata": {},
   "outputs": [
    {
     "name": "stdout",
     "output_type": "stream",
     "text": [
      "(32, 120, 64, 64) (32, 120, 64, 64)\n",
      "4.316534042358398\n",
      "(32, 120, 64, 64) (32, 120, 64, 64)\n",
      "1.489319086074829\n",
      "(32, 120, 64, 64) (32, 120, 64, 64)\n",
      "1.08349609375\n",
      "(32, 120, 64, 64) (32, 120, 64, 64)\n",
      "1.0888595581054688\n",
      "(32, 120, 64, 64) (32, 120, 64, 64)\n",
      "1.9801263809204102\n",
      "(32, 120, 64, 64) (32, 120, 64, 64)\n",
      "4.3839452266693115\n",
      "(32, 120, 64, 64) (32, 120, 64, 64)\n",
      "4.118011236190796\n",
      "(32, 120, 64, 64) (32, 120, 64, 64)\n",
      "4.431822061538696\n",
      "(32, 120, 64, 64) (32, 120, 64, 64)\n",
      "4.143171072006226\n",
      "(32, 120, 64, 64) (32, 120, 64, 64)\n",
      "4.274308919906616\n",
      "(32, 120, 64, 64) (32, 120, 64, 64)\n",
      "3.2821357250213623\n",
      "(32, 120, 64, 64) (32, 120, 64, 64)\n",
      "1.8216431140899658\n",
      "(32, 120, 64, 64) (32, 120, 64, 64)\n",
      "1.1450257301330566\n",
      "(32, 120, 64, 64) (32, 120, 64, 64)\n",
      "1.0911104679107666\n",
      "(32, 120, 64, 64) (32, 120, 64, 64)\n",
      "1.171776294708252\n",
      "(32, 120, 64, 64) (32, 120, 64, 64)\n",
      "1.185704231262207\n",
      "(32, 120, 64, 64) (32, 120, 64, 64)\n",
      "3.159532070159912\n",
      "(32, 120, 64, 64) (32, 120, 64, 64)\n",
      "3.5027127265930176\n",
      "(32, 120, 64, 64) (32, 120, 64, 64)\n",
      "2.387255907058716\n",
      "(32, 120, 64, 64) (32, 120, 64, 64)\n",
      "2.430323839187622\n",
      "(32, 120, 64, 64) (32, 120, 64, 64)\n",
      "5.0398712158203125\n",
      "(32, 120, 64, 64) (32, 120, 64, 64)\n",
      "4.754579067230225\n",
      "(32, 120, 64, 64) (32, 120, 64, 64)\n",
      "5.416435718536377\n",
      "(32, 120, 64, 64) (32, 120, 64, 64)\n",
      "5.123458623886108\n",
      "(32, 120, 64, 64) (32, 120, 64, 64)\n",
      "4.69428277015686\n",
      "(32, 120, 64, 64) (32, 120, 64, 64)\n",
      "5.230578899383545\n",
      "(32, 120, 64, 64) (32, 120, 64, 64)\n",
      "4.571743011474609\n",
      "(32, 120, 64, 64) (32, 120, 64, 64)\n",
      "4.9141035079956055\n",
      "(32, 120, 64, 64) (32, 120, 64, 64)\n",
      "4.489544153213501\n",
      "(32, 120, 64, 64) (32, 120, 64, 64)\n",
      "5.3769707679748535\n",
      "(32, 120, 64, 64) (32, 120, 64, 64)\n",
      "4.766152620315552\n",
      "(32, 120, 64, 64) (32, 120, 64, 64)\n",
      "5.024810314178467\n",
      "(32, 120, 64, 64) (32, 120, 64, 64)\n",
      "5.221513748168945\n",
      "(32, 120, 64, 64) (32, 120, 64, 64)\n",
      "4.946791648864746\n",
      "(32, 120, 64, 64) (32, 120, 64, 64)\n",
      "5.064396619796753\n",
      "(32, 120, 64, 64) (32, 120, 64, 64)\n",
      "4.332486391067505\n",
      "(32, 120, 64, 64) (32, 120, 64, 64)\n",
      "4.948837518692017\n",
      "(32, 120, 64, 64) (32, 120, 64, 64)\n",
      "4.601047992706299\n",
      "(32, 120, 64, 64) (32, 120, 64, 64)\n",
      "5.109538793563843\n",
      "(32, 120, 64, 64) (32, 120, 64, 64)\n",
      "5.262756586074829\n"
     ]
    }
   ],
   "source": [
    "for i in range(40):\n",
    "    start = time.time()\n",
    "    item = train_gen.__getitem__(i)\n",
    "    print(item[0].shape, item[1].shape)\n",
    "    print(time.time() - start)"
   ]
  },
  {
   "cell_type": "code",
   "execution_count": 6,
   "id": "d8c28761-9b8b-41c1-b0e4-ec8279d2d2bf",
   "metadata": {},
   "outputs": [],
   "source": [
    "train_gen = DataGenerator(list_IDs = train_ids, stats = stats, \n",
    "                          batch_size = my_params['batchSize'],\n",
    "                          tile_size = my_params['tileSize'],\n",
    "                          block_size = my_params['blockSize'],\n",
    "                          window_size = my_params['windowSize'],\n",
    "                          in_data_dir = in_data, out_data_dir = out_data)"
   ]
  },
  {
   "cell_type": "code",
   "execution_count": 7,
   "id": "3b73348e-f91d-45a3-bc56-5a6d00d398a2",
   "metadata": {},
   "outputs": [],
   "source": [
    "batch = (train_gen.__getitem__(15))"
   ]
  },
  {
   "cell_type": "code",
   "execution_count": 12,
   "id": "7693cd09-e6fd-4bdf-838f-1931cdb7d4a1",
   "metadata": {},
   "outputs": [],
   "source": [
    "x_sample = batch[0][0, :, :, :]\n",
    "y_sample = batch[1][0, :, :, :]\n",
    "vmax = max(np.nanmax(x_sample), np.nanmax(y_sample))\n",
    "vmin = min(np.nanmin(x_sample), np.nanmin(y_sample))"
   ]
  },
  {
   "cell_type": "code",
   "execution_count": 16,
   "id": "1ea1685d-5715-456b-9d09-c9533659bf10",
   "metadata": {},
   "outputs": [],
   "source": [
    "def create_frames(data, title, img_name):\n",
    "    for t in range(data.shape[0]):\n",
    "        plt.imshow(data[t, :, :], vmin = vmin, vmax = vmax)\n",
    "        plt.colorbar()\n",
    "        plt.title(title)\n",
    "        plt.savefig(f'./img/{img_name}_{t}.png', transparent=False, facecolor='white')\n",
    "        plt.close()\n",
    "\n",
    "    \n",
    "create_frames(x_sample, \"Training Input\", \"X\")"
   ]
  },
  {
   "cell_type": "code",
   "execution_count": 4,
   "id": "04b26801-22fd-4dba-b398-c6989fc0092f",
   "metadata": {},
   "outputs": [],
   "source": [
    "frames = []\n",
    "for t in range(120):\n",
    "    image = imageio.v2.imread(f'./img/X_{t}.png')\n",
    "    frames.append(image)\n",
    "\n",
    "imageio.mimsave('./img/X.gif', # output gif\n",
    "            frames,          # array of input frames\n",
    "            fps = 5)         # optional: frames per second"
   ]
  },
  {
   "cell_type": "code",
   "execution_count": null,
   "id": "dae4d98f-e4a4-4369-b31f-18ed3974bf2a",
   "metadata": {},
   "outputs": [],
   "source": []
  },
  {
   "cell_type": "code",
   "execution_count": 12,
   "id": "da5f7087-6823-408c-b3e2-7b3c12293c5d",
   "metadata": {},
   "outputs": [],
   "source": [
    "def mse_loss(in_data, out_data):\n",
    "    valid_data = ~np.isnan(out_data)\n",
    "    return np.mean(np.square(in_data[valid_data] - out_data[valid_data]))"
   ]
  },
  {
   "cell_type": "code",
   "execution_count": 18,
   "id": "c8c6b0e2-e5b6-4b87-ac5a-5a1f4a70a1cc",
   "metadata": {},
   "outputs": [],
   "source": [
    "losses = []\n",
    "ts = [i for i in range(120)]\n",
    "for t in ts:\n",
    "    losses.append(mse_loss(x_sample[t, :, :], y_sample[t, :, :]))"
   ]
  },
  {
   "cell_type": "code",
   "execution_count": 20,
   "id": "c7c25530-c92e-45fb-abb8-cb34da5161a2",
   "metadata": {},
   "outputs": [
    {
     "data": {
      "text/plain": [
       "Text(0, 0.5, 'MSE Loss')"
      ]
     },
     "execution_count": 20,
     "metadata": {},
     "output_type": "execute_result"
    },
    {
     "data": {
      "image/png": "[encoded data removed]",
      "text/plain": [
       "<Figure size 432x288 with 1 Axes>"
      ]
     },
     "metadata": {
      "needs_background": "light"
     },
     "output_type": "display_data"
    }
   ],
   "source": [
    "plt.plot(ts, losses)\n",
    "plt.title(\"MSE Loss for Training Sample\")\n",
    "plt.xlabel(\"Timestep\")\n",
    "plt.ylabel(\"MSE Loss\")"
   ]
  }
 ],
 "metadata": {
  "kernelspec": {
   "display_name": "Python 3 (ipykernel)",
   "language": "python",
   "name": "python3"
  },
  "language_info": {
   "codemirror_mode": {
    "name": "ipython",
    "version": 3
   },
   "file_extension": ".py",
   "mimetype": "text/x-python",
   "name": "python",
   "nbconvert_exporter": "python",
   "pygments_lexer": "ipython3",
   "version": "3.9.13"
  }
 },
 "nbformat": 4,
 "nbformat_minor": 5
}
